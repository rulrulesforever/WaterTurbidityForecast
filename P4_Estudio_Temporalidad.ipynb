{
  "nbformat": 4,
  "nbformat_minor": 0,
  "metadata": {
    "colab": {
      "name": "P4_Estudio_Temporalidad.ipynb",
      "provenance": [],
      "collapsed_sections": []
    },
    "kernelspec": {
      "name": "python3",
      "display_name": "Python 3"
    },
    "language_info": {
      "name": "python"
    },
    "accelerator": "GPU"
  },
  "cells": [
    {
      "cell_type": "markdown",
      "metadata": {
        "id": "p4_Ee0GsGq-h"
      },
      "source": [
        "#P4   Modelado de la Turbidez como Serie Temporal"
      ]
    },
    {
      "cell_type": "markdown",
      "metadata": {
        "id": "ih3qDuEmJMtk"
      },
      "source": [
        "*Instalación* de paquetes y librerías. Respétese el orden para no tener incompatibilidades.\n",
        "\n"
      ]
    },
    {
      "cell_type": "markdown",
      "metadata": {
        "id": "swu4XaR6F7VR"
      },
      "source": [
        ""
      ]
    },
    {
      "cell_type": "code",
      "metadata": {
        "id": "4hh4wD90jfmZ"
      },
      "source": [
        "!pip install pmdarima"
      ],
      "execution_count": null,
      "outputs": []
    },
    {
      "cell_type": "code",
      "metadata": {
        "id": "mrktKe8ogzve"
      },
      "source": [
        "!pip install prophet"
      ],
      "execution_count": null,
      "outputs": []
    },
    {
      "cell_type": "code",
      "metadata": {
        "id": "j7_jB_Yq6WnT"
      },
      "source": [
        "from pmdarima.arima import auto_arima "
      ],
      "execution_count": null,
      "outputs": []
    },
    {
      "cell_type": "code",
      "metadata": {
        "id": "Gmsoo5lPhiub"
      },
      "source": [
        "from fbprophet import Prophet"
      ],
      "execution_count": null,
      "outputs": []
    },
    {
      "cell_type": "markdown",
      "metadata": {
        "id": "2llPQENfJITZ"
      },
      "source": [
        "# P4.1  Chequeo de Índices Temporales"
      ]
    },
    {
      "cell_type": "code",
      "metadata": {
        "id": "2Z-lJG9-G3wK"
      },
      "source": [
        ""
      ],
      "execution_count": null,
      "outputs": []
    },
    {
      "cell_type": "code",
      "metadata": {
        "id": "UMqIuuvx3-f4"
      },
      "source": [
        "import pandas as pd\n",
        "import math\n",
        "import numpy as np\n",
        "import random\n",
        "import scipy.stats as stats\n",
        "import matplotlib.pyplot as plt\n",
        "import seaborn as sns\n",
        "import statsmodels.api as sm\n",
        "import warnings\n",
        "\n",
        "path='turbitidy_cycle17_21.csv'\n",
        "\n",
        "from statsmodels.tsa.seasonal import seasonal_decompose\n",
        "# holt winters \n",
        "# (SES) single exponential smoothing\n",
        "from statsmodels.tsa.holtwinters import SimpleExpSmoothing   \n",
        "# (DTE) double and triple exponential smoothing\n",
        "from statsmodels.tsa.holtwinters import ExponentialSmoothing"
      ],
      "execution_count": null,
      "outputs": []
    },
    {
      "cell_type": "markdown",
      "metadata": {
        "id": "LAnuZjWSBXIb"
      },
      "source": [
        "Esta es la función con la que calcularemos los errores. Tenemos básicamente tres grupos de estimadores de error, los basados en la mediana, los basados en la media y los porcentuales. Los basados en la media aritmética son útiles a la hora de determinar el comportamiento de la predicción teniendo en cuenta factores externos generados como picos de turbidez. Los basados en la mediana, son más robustos y evitan los outliers. Finalmente los porcentuales miden la desviación porcentual de la señal real respecto a la predicha, siendo los que más vamos a utilizar. Especialmente SMAPE."
      ]
    },
    {
      "cell_type": "code",
      "metadata": {
        "id": "c6PSkEgU9oYC"
      },
      "source": [
        "def calculate_error(y_pred,y_test, print_message=True):\n",
        "#Imprime los resultados del \n",
        "#y_pred: tipo 1D array o asimilado, valores prededecidos\n",
        "#y_test: tipo 1D array o asimilado, valores reaales\n",
        "#print_message :imprime los errores calculado por pantalla.\n",
        "\n",
        "\n",
        "  # # Mean Absolute Error (MAE)\n",
        "  MAE = np.mean(abs(y_pred - y_test))\n",
        "  \n",
        "  # Median Absolute Error (MedAE)\n",
        "  MEDAE = np.median(abs(y_pred - y_test))\n",
        "\n",
        "\n",
        "  # Mean Squared Error (MSE)\n",
        "  MSE = np.square(np.subtract(y_pred, y_test)).mean()\n",
        " \n",
        "\n",
        "  # Root Mean Squarred Error (RMSE) \n",
        "  RMSE = np.sqrt(np.mean(np.square(y_pred - y_test)))\n",
        "\n",
        "  # Mean Absolute Percentage Error (MAPE)\n",
        "  MAPE = np.mean((np.abs(np.subtract(y_test, y_pred)/ y_test))) * 100\n",
        "  \n",
        "\n",
        "  # Median Absolute Percentage Error (MDAPE)\n",
        "  MDAPE = np.median((np.abs(np.subtract(y_test, y_pred)/ y_test))) * 100\n",
        "\n",
        "  def smape(a, f):\n",
        "    return 1/len(a) * np.sum(2 * np.abs(f-a) / (np.abs(a) + np.abs(f))*100)\n",
        "\n",
        "  if (print_message) :\n",
        "      print('Mean Absolute Error (MAE): ' + str(np.round(MAE, 2)))\n",
        "      print('Median Absolute Error (MedAE): ' + str(np.round(MEDAE, 2)))\n",
        "      print('Mean Squared Error (MSE): ' + str(np.round(MSE, 2)))\n",
        "      print('Root Mean Squared Error (RMSE): ' + str(np.round(RMSE, 2)))\n",
        "      print('Mean Absolute Percentage Error (MAPE): ' + str(np.round(MAPE, 2)) + ' %')\n",
        "      print('Median Absolute Percentage Error (MDAPE): ' + str(np.round(MDAPE, 2)) + ' %')\n",
        "\n",
        "  return MAE,MEDAE,MSE,RMSE,MAPE,MDAPE"
      ],
      "execution_count": null,
      "outputs": []
    },
    {
      "cell_type": "code",
      "metadata": {
        "id": "3mHdulcCDf_j"
      },
      "source": [
        "def calculate_error_smape(y_test, y_pred):\n",
        "    #No usar si algún resultado de un forecast puede ser cero.\n",
        "    return 1/len(y_test) * np.sum(2 * np.abs(y_pred-y_test) / (np.abs(y_test) + np.abs(y_pred))*100)"
      ],
      "execution_count": null,
      "outputs": []
    },
    {
      "cell_type": "code",
      "metadata": {
        "id": "wgGOwbUtPPEm"
      },
      "source": [
        "df_turbidity_source = pd.read_csv(path, delimiter=',',infer_datetime_format=True, index_col='datetime',parse_dates=True)\n",
        "df_turbidity_source['116507_63680']=pd.to_numeric(df_turbidity_source['116507_63680'])\n"
      ],
      "execution_count": null,
      "outputs": []
    },
    {
      "cell_type": "code",
      "metadata": {
        "id": "QQ1suc06C1z_"
      },
      "source": [
        "df_turbidity= df_turbidity_source.copy()"
      ],
      "execution_count": null,
      "outputs": []
    },
    {
      "cell_type": "markdown",
      "metadata": {
        "id": "WcbuL0cFFigP"
      },
      "source": [
        "Comprobar siempre cómo han sido interpretados los campos, especialmente los numéricos y las fechas, que no aparezcan como tipos cadena."
      ]
    },
    {
      "cell_type": "code",
      "metadata": {
        "colab": {
          "base_uri": "https://localhost:8080/"
        },
        "id": "PA7w-gdI8ttD",
        "outputId": "21a3545d-7545-4dfa-8ca4-bdecef8b2394"
      },
      "source": [
        "df_turbidity_source.dtypes"
      ],
      "execution_count": null,
      "outputs": [
        {
          "output_type": "execute_result",
          "data": {
            "text/plain": [
              "agency_cd           object\n",
              "site_no              int64\n",
              "tz_cd               object\n",
              "116507_63680       float64\n",
              "116507_63680_cd     object\n",
              "dtype: object"
            ]
          },
          "metadata": {
            "tags": []
          },
          "execution_count": 10
        }
      ]
    },
    {
      "cell_type": "markdown",
      "metadata": {
        "id": "3yKpBGTs6TYM"
      },
      "source": [
        "Comprobación de Indices: "
      ]
    },
    {
      "cell_type": "code",
      "metadata": {
        "id": "NtVr1I_E6SiZ"
      },
      "source": [
        "fixed_time_index = pd.date_range(start ='2017-05-31 00:00:00' , end = '2021-03-18 03:45:00',freq='15T')\n",
        "difference_index= fixed_time_index.difference(df_turbidity_source.index)"
      ],
      "execution_count": null,
      "outputs": []
    },
    {
      "cell_type": "markdown",
      "metadata": {
        "id": "pdzEligk6jJ8"
      },
      "source": [
        "Si *difference_index* no está vacío, entonces las fechas del dataset serán compactas y no habrá huecos de tiempo. En caso contrario muchos métodos no podrán ajustar la periodicidad. En este caso bien:"
      ]
    },
    {
      "cell_type": "code",
      "metadata": {
        "colab": {
          "base_uri": "https://localhost:8080/"
        },
        "id": "hFsClJEM6hPZ",
        "outputId": "a183ee21-d0c0-48ad-9022-621fd60dc9cc"
      },
      "source": [
        "difference_index"
      ],
      "execution_count": null,
      "outputs": [
        {
          "output_type": "execute_result",
          "data": {
            "text/plain": [
              "DatetimeIndex([], dtype='datetime64[ns]', freq=None)"
            ]
          },
          "metadata": {
            "tags": []
          },
          "execution_count": 12
        }
      ]
    },
    {
      "cell_type": "markdown",
      "metadata": {
        "id": "NQuD1-cQ65qC"
      },
      "source": [
        "Comprobación de Missing Values:"
      ]
    },
    {
      "cell_type": "code",
      "metadata": {
        "colab": {
          "base_uri": "https://localhost:8080/"
        },
        "id": "lXhXMDDzoHuK",
        "outputId": "ebaa568b-3d2a-4cef-f0e6-0634fccf8b0b"
      },
      "source": [
        "print(\"Missings Detectados : \")\n",
        "print(df_turbidity_source.isnull().sum())"
      ],
      "execution_count": null,
      "outputs": [
        {
          "output_type": "stream",
          "text": [
            "Missings Detectados : \n",
            "agency_cd          0\n",
            "site_no            0\n",
            "tz_cd              0\n",
            "116507_63680       0\n",
            "116507_63680_cd    0\n",
            "dtype: int64\n"
          ],
          "name": "stdout"
        }
      ]
    },
    {
      "cell_type": "markdown",
      "metadata": {
        "id": "V8oQMGE3JrqC"
      },
      "source": [
        "Mostramos el Gráfico. Vemos que existe una determinada estacionalidad en torno a enero, sin embargo los modelos no la detectan, especialmente los autoregresivos. Puede ser que no se hayan configurado suficientes pasos autoregresivos para estudiar o que para detectar la estacionalidad necesiten disminuir el tiempo de muestra. El problema del tiempo de muestra es que si se disminuye para poder detectar la estacionalidad, no tendremos suficiente resolulción para detectar eventos como la subida brusca de turbidez en horas."
      ]
    },
    {
      "cell_type": "code",
      "metadata": {
        "colab": {
          "base_uri": "https://localhost:8080/",
          "height": 596
        },
        "id": "8ysdt_58Coue",
        "outputId": "304169f0-d379-4f3f-b0bd-d8d7370ae227"
      },
      "source": [
        "df_turbidity[['116507_63680']].plot(title='Turbidity (FNU)',figsize=(16,9))"
      ],
      "execution_count": null,
      "outputs": [
        {
          "output_type": "execute_result",
          "data": {
            "text/plain": [
              "<matplotlib.axes._subplots.AxesSubplot at 0x7fa9f8d22e50>"
            ]
          },
          "metadata": {
            "tags": []
          },
          "execution_count": 12
        },
        {
          "output_type": "display_data",
          "data": {
            "image/png": "[encoded data removed]",
            "text/plain": [
              "<Figure size 1152x648 with 1 Axes>"
            ]
          },
          "metadata": {
            "tags": [],
            "needs_background": "light"
          }
        }
      ]
    },
    {
      "cell_type": "code",
      "metadata": {
        "id": "NLY826x6HMPR"
      },
      "source": [
        "ts=df_turbidity.drop(['agency_cd','site_no','tz_cd','116507_63680_cd'],axis=1)"
      ],
      "execution_count": null,
      "outputs": []
    },
    {
      "cell_type": "code",
      "metadata": {
        "id": "hxgn89RHILjb"
      },
      "source": [
        "ts=ts.squeeze()"
      ],
      "execution_count": null,
      "outputs": []
    },
    {
      "cell_type": "markdown",
      "metadata": {
        "id": "tNhioaiqI9-5"
      },
      "source": [
        "Comprobar que se ha generado una pd.Series, y que se asigna sin errores la frequencia de 15 minutos \"15T\" al indice."
      ]
    },
    {
      "cell_type": "code",
      "metadata": {
        "colab": {
          "base_uri": "https://localhost:8080/"
        },
        "id": "3k56aDktIimK",
        "outputId": "57243a59-d2f8-4e2c-8e4b-3fddbbc0c640"
      },
      "source": [
        "type(ts)"
      ],
      "execution_count": null,
      "outputs": [
        {
          "output_type": "execute_result",
          "data": {
            "text/plain": [
              "pandas.core.series.Series"
            ]
          },
          "metadata": {
            "tags": []
          },
          "execution_count": 15
        }
      ]
    },
    {
      "cell_type": "markdown",
      "metadata": {
        "id": "8EGzx204C70o"
      },
      "source": [
        "Si al hacer esto no hay problemas, entonces los índices de tiempo están bien."
      ]
    },
    {
      "cell_type": "code",
      "metadata": {
        "id": "avvZwMYHOY5a"
      },
      "source": [
        "ts.index.freq=\"15T\""
      ],
      "execution_count": null,
      "outputs": []
    },
    {
      "cell_type": "code",
      "metadata": {
        "colab": {
          "base_uri": "https://localhost:8080/"
        },
        "id": "UdlDgyMwJSvH",
        "outputId": "6da1599a-99e1-49f7-fa75-c4f1def1e9fe"
      },
      "source": [
        "print(ts)"
      ],
      "execution_count": null,
      "outputs": [
        {
          "output_type": "stream",
          "text": [
            "datetime\n",
            "2017-05-31 00:00:00    5.2\n",
            "2017-05-31 00:15:00    5.2\n",
            "2017-05-31 00:30:00    5.2\n",
            "2017-05-31 00:45:00    5.2\n",
            "2017-05-31 01:00:00    5.3\n",
            "                      ... \n",
            "2021-03-18 02:45:00    0.9\n",
            "2021-03-18 03:00:00    0.9\n",
            "2021-03-18 03:15:00    1.0\n",
            "2021-03-18 03:30:00    0.9\n",
            "2021-03-18 03:45:00    0.9\n",
            "Freq: 15T, Name: 116507_63680, Length: 133168, dtype: float64\n"
          ],
          "name": "stdout"
        }
      ]
    },
    {
      "cell_type": "markdown",
      "metadata": {
        "id": "HkxVrbwwJ3iE"
      },
      "source": [
        "# P4.2  Estudio de Descomposición de la Serie Temporal"
      ]
    },
    {
      "cell_type": "markdown",
      "metadata": {
        "id": "QGQbrVMqI2Ue"
      },
      "source": [
        "Realizamos la descomposición:"
      ]
    },
    {
      "cell_type": "code",
      "metadata": {
        "colab": {
          "base_uri": "https://localhost:8080/",
          "height": 296
        },
        "id": "afh-zSAQZFFJ",
        "outputId": "604d9966-287e-4745-ccb4-989bdda55398"
      },
      "source": [
        "\n",
        "\n",
        "with warnings.catch_warnings():\n",
        "    # eliminar avisos en este bloque\n",
        "    warnings.simplefilter(\"ignore\")\n",
        "\n",
        "    #descomposción aditiva\n",
        "    decompose_result = seasonal_decompose(ts, model='aditive', freq=12)\n",
        "    decompose_result.plot();\n",
        "\n"
      ],
      "execution_count": null,
      "outputs": [
        {
          "output_type": "display_data",
          "data": {
            "image/png": "[encoded data removed]",
            "text/plain": [
              "<Figure size 432x288 with 4 Axes>"
            ]
          },
          "metadata": {
            "tags": [],
            "needs_background": "light"
          }
        }
      ]
    },
    {
      "cell_type": "code",
      "metadata": {
        "colab": {
          "base_uri": "https://localhost:8080/",
          "height": 1000
        },
        "id": "geKTCqmkn3oo",
        "outputId": "e04581bc-d536-4ffa-da94-3d15df530930"
      },
      "source": [
        "plt.figure(figsize=(14,10))\n",
        "decompose_result.observed.plot()\n",
        "plt.xticks(rotation=0)\n",
        "plt.title('Observados')\n",
        "plt.show()\n",
        "\n",
        "plt.figure(figsize=(14,10))\n",
        "decompose_result.trend.plot()\n",
        "plt.xticks(rotation=0)\n",
        "plt.title('Tendencia')\n",
        "plt.show()\n",
        "\n",
        "plt.figure(figsize=(14,10))\n",
        "decompose_result.seasonal.plot()\n",
        "plt.xticks(rotation=0)\n",
        "plt.title('Estacionalidad')\n",
        "plt.show()\n",
        "\n",
        "\n",
        "plt.figure(figsize=(14,10))\n",
        "decompose_result.resid.plot()\n",
        "plt.xticks(rotation=0)\n",
        "plt.title('Residuales')\n",
        "plt.show()"
      ],
      "execution_count": null,
      "outputs": [
        {
          "output_type": "display_data",
          "data": {
            "image/png": "[encoded data removed]",
            "text/plain": [
              "<Figure size 1008x720 with 1 Axes>"
            ]
          },
          "metadata": {
            "tags": [],
            "needs_background": "light"
          }
        },
        {
          "output_type": "display_data",
          "data": {
            "image/png": "[encoded data removed]",
            "text/plain": [
              "<Figure size 1008x720 with 1 Axes>"
            ]
          },
          "metadata": {
            "tags": [],
            "needs_background": "light"
          }
        },
        {
          "output_type": "display_data",
          "data": {
            "image/png": "[encoded data removed]",
            "text/plain": [
              "<Figure size 1008x720 with 1 Axes>"
            ]
          },
          "metadata": {
            "tags": [],
            "needs_background": "light"
          }
        },
        {
          "output_type": "display_data",
          "data": {
            "image/png": "[encoded data removed]",
            "text/plain": [
              "<Figure size 1008x720 with 1 Axes>"
            ]
          },
          "metadata": {
            "tags": [],
            "needs_background": "light"
          }
        }
      ]
    },
    {
      "cell_type": "code",
      "metadata": {
        "id": "frwN2aIl5pmJ"
      },
      "source": [
        ""
      ],
      "execution_count": null,
      "outputs": []
    },
    {
      "cell_type": "markdown",
      "metadata": {
        "id": "tHVkdIVV5qDT"
      },
      "source": [
        "Vamos a realizar dos pruebas KPSS y ADF. Ambas testean la estacionalidad de la serie, sin embargo KPSS es un poco más flexible y testea la si existe estacionalidad \"determinista\". En todos los casos vemos que la serie no es estacional."
      ]
    },
    {
      "cell_type": "markdown",
      "metadata": {
        "id": "adHVJP16j-Cv"
      },
      "source": [
        "Una diferencia importante entre las pruebas KPSS y ADF es la capacidad de la prueba KPSS para comprobar la estacionariedad en \"presencia de una tendencia determinista\". Prueba KPSS: comprueba la estacionariedad de la serie en torno a una \"tendencia determinista\".\n",
        "\n",
        "Lo que esto significa para nosotros es que la prueba no tiene por qué rechazar la hipótesis nula (que la serie es estacionaria) aunque la serie aumente o disminuya de forma constante.\n",
        "\n",
        "La palabra \"determinista\" implica que la pendiente de la tendencia de la serie no cambia permanentemente. Es decir, aunque la serie pase por un shock, tiende a recuperar su trayectoria original.\n",
        "\n",
        "Si una serie es estacionaria según la prueba KPSS estableciendo regresión='ct' y no es estacionaria según la prueba ADF, significa que la serie es estacionaria en torno a una tendencia determinista y, por tanto, es bastante fácil modelar esta serie y producir previsiones bastante precisas. "
      ]
    },
    {
      "cell_type": "code",
      "metadata": {
        "id": "KHCGW0Cwjonk"
      },
      "source": [
        "#Fuente: https://www.machinelearningplus.com/kpss-test-for-stationarity/\n",
        "\n",
        "def kpss_test(series, **kw): \n",
        "   \n",
        "    from statsmodels.tsa.stattools import kpss \n",
        "   \n",
        "    statistic, p_value, n_lags, critical_values = kpss(series, **kw)\n",
        "    # Format Output\n",
        "    print(f'KPSS Statistic: {statistic}')\n",
        "    print(f'p-value: {p_value}')\n",
        "    print(f'num lags: {n_lags}')\n",
        "    print('Critial Values:')\n",
        "    for key, value in critical_values.items():\n",
        "        print(f'   {key} : {value}')\n",
        "    print(f'Resultado: La serie es  {\"no \" if p_value < 0.05 else \"\"}estacionaria.')\n",
        "    print(\"___________________________________________________\")\n"
      ],
      "execution_count": null,
      "outputs": []
    },
    {
      "cell_type": "code",
      "metadata": {
        "id": "3GqEceWh1Aym"
      },
      "source": [
        "#Fuente: Basado en el trabajo https://www.hackdeploy.com/augmented-dickey-fuller-test-in-python/\n",
        "\n",
        "def ADF_Stationarity_Test(timeseries, printResults = True):\n",
        "        \n",
        "        from statsmodels.tsa.stattools import adfuller\n",
        "        \n",
        "        SignificanceLevel=0.05     \n",
        "        adfTest = adfuller(timeseries, autolag='AIC')\n",
        "        \n",
        "        pValue = adfTest[1]\n",
        "        \n",
        "        if printResults:\n",
        "            dfResults = pd.Series(adfTest[0:4], index=['ADF Test Statistic','P-Value','# Lags Used','# Observations Used'])\n",
        "            #Add Critical Values\n",
        "            for key,value in adfTest[4].items():\n",
        "                dfResults['Critical Value (%s)'%key] = value\n",
        "            print('Augmented Dickey-Fuller Test Results:')\n",
        "            print(dfResults)\n",
        "        "
      ],
      "execution_count": null,
      "outputs": []
    },
    {
      "cell_type": "markdown",
      "metadata": {
        "id": "G4KtrNQ5SgNW"
      },
      "source": [
        "Comprobamos que la serie no es estacionaria H0: p<0.05 se rechaza que la serie sea estacionaria:"
      ]
    },
    {
      "cell_type": "code",
      "metadata": {
        "colab": {
          "base_uri": "https://localhost:8080/"
        },
        "id": "fqOuqst3SXct",
        "outputId": "bbc27f2e-5c6a-4052-c058-f167ef0673f0"
      },
      "source": [
        "ADF_Stationarity_Test(ts)\n",
        "        "
      ],
      "execution_count": null,
      "outputs": [
        {
          "output_type": "stream",
          "text": [
            "Augmented Dickey-Fuller Test Results:\n",
            "ADF Test Statistic     -1.040792e+01\n",
            "P-Value                 1.836109e-18\n",
            "# Lags Used             6.800000e+01\n",
            "# Observations Used     1.330990e+05\n",
            "Critical Value (1%)    -3.430399e+00\n",
            "Critical Value (5%)    -2.861562e+00\n",
            "Critical Value (10%)   -2.566782e+00\n",
            "dtype: float64\n"
          ],
          "name": "stdout"
        }
      ]
    },
    {
      "cell_type": "code",
      "metadata": {
        "colab": {
          "base_uri": "https://localhost:8080/"
        },
        "id": "V6tr1T5Xu7Bw",
        "outputId": "6a500895-d266-475f-f435-b0c3c209f5d3"
      },
      "source": [
        "print(\"Prueba KPSS para Estacionariedad \")\n",
        "kpss_test(ts,nlags=\"legacy\")"
      ],
      "execution_count": null,
      "outputs": [
        {
          "output_type": "stream",
          "text": [
            "Prueba KPSS para Estacionalidad \n",
            "KPSS Statistic: 7.762327839131263\n",
            "p-value: 0.01\n",
            "num lags: 73\n",
            "Critial Values:\n",
            "   10% : 0.347\n",
            "   5% : 0.463\n",
            "   2.5% : 0.574\n",
            "   1% : 0.739\n",
            "Resultado: La serie es  no estacionaria.\n",
            "___________________________________________________\n"
          ],
          "name": "stdout"
        },
        {
          "output_type": "stream",
          "text": [
            "/usr/local/lib/python3.7/dist-packages/statsmodels/tsa/stattools.py:1907: InterpolationWarning:\n",
            "\n",
            "The test statistic is outside of the range of p-values available in the\n",
            "look-up table. The actual p-value is smaller than the p-value returned.\n",
            "\n",
            "\n"
          ],
          "name": "stderr"
        }
      ]
    },
    {
      "cell_type": "markdown",
      "metadata": {
        "id": "yo2uc1rKvazs"
      },
      "source": [
        "El parámetro regression='ct' testea la estacionariedad en la tendencia determinista"
      ]
    },
    {
      "cell_type": "code",
      "metadata": {
        "colab": {
          "base_uri": "https://localhost:8080/"
        },
        "id": "jEyhPZejvO_-",
        "outputId": "4c18eb20-d9bb-43c7-89c1-513bd1de68fb"
      },
      "source": [
        "print(\"Prueba KPSS para Estacionariedad Determinista\")\n",
        "kpss_test(ts,nlags=\"legacy\",  regression='ct')"
      ],
      "execution_count": null,
      "outputs": [
        {
          "output_type": "stream",
          "text": [
            "Prueba KPSS para Estacionalidad Determinista\n",
            "KPSS Statistic: 3.672680718236145\n",
            "p-value: 0.01\n",
            "num lags: 73\n",
            "Critial Values:\n",
            "   10% : 0.119\n",
            "   5% : 0.146\n",
            "   2.5% : 0.176\n",
            "   1% : 0.216\n",
            "Resultado: La serie es  no estacionaria.\n",
            "___________________________________________________\n"
          ],
          "name": "stdout"
        },
        {
          "output_type": "stream",
          "text": [
            "/usr/local/lib/python3.7/dist-packages/statsmodels/tsa/stattools.py:1907: InterpolationWarning:\n",
            "\n",
            "The test statistic is outside of the range of p-values available in the\n",
            "look-up table. The actual p-value is smaller than the p-value returned.\n",
            "\n",
            "\n"
          ],
          "name": "stderr"
        }
      ]
    },
    {
      "cell_type": "markdown",
      "metadata": {
        "id": "2LdnIjpH6Nqx"
      },
      "source": [
        "Ahora miramos los residuos, si los residuos son estacionarios ya no podrían modelarse buscando autocorrelación y por tanto la descomposición ya está concluída."
      ]
    },
    {
      "cell_type": "code",
      "metadata": {
        "colab": {
          "base_uri": "https://localhost:8080/"
        },
        "id": "DNdVH-Ok9Yuv",
        "outputId": "71558009-6788-404e-ef8d-01ee27e6b9d7"
      },
      "source": [
        "print(\"Test sobre residuo :\")\n",
        "kpss_test(decompose_result.resid.dropna(),nlags=\"legacy\",  regression='ct')"
      ],
      "execution_count": null,
      "outputs": [
        {
          "output_type": "stream",
          "text": [
            "KPSS Statistic: 0.00030985809779170473\n",
            "p-value: 0.1\n",
            "num lags: 73\n",
            "Critial Values:\n",
            "   10% : 0.119\n",
            "   5% : 0.146\n",
            "   2.5% : 0.176\n",
            "   1% : 0.216\n",
            "Resultado: La serie es  estacionaria.\n",
            "___________________________________________________\n"
          ],
          "name": "stdout"
        },
        {
          "output_type": "stream",
          "text": [
            "/usr/local/lib/python3.7/dist-packages/statsmodels/tsa/stattools.py:1911: InterpolationWarning:\n",
            "\n",
            "The test statistic is outside of the range of p-values available in the\n",
            "look-up table. The actual p-value is greater than the p-value returned.\n",
            "\n",
            "\n"
          ],
          "name": "stderr"
        }
      ]
    },
    {
      "cell_type": "code",
      "metadata": {
        "id": "LDNogra1-DPs"
      },
      "source": [
        ""
      ],
      "execution_count": null,
      "outputs": []
    },
    {
      "cell_type": "markdown",
      "metadata": {
        "id": "zLQwXRVWLnyS"
      },
      "source": [
        "# P4.3 Definición Datasets Para Entrenamiento"
      ]
    },
    {
      "cell_type": "markdown",
      "metadata": {
        "id": "5E2VAehP_tRO"
      },
      "source": [
        "Ees importante igualar el cjto de entrenamiento / test a a las proporciones 80/20%, si bien el mantenimiento de las geometrías representativas es también importante.\n"
      ]
    },
    {
      "cell_type": "code",
      "metadata": {
        "colab": {
          "base_uri": "https://localhost:8080/",
          "height": 614
        },
        "id": "l7skG_HIKN-K",
        "outputId": "ef2ffa81-4a08-41bb-97d4-39b30b47daa9"
      },
      "source": [
        "# Split into train and test set\n",
        "\n",
        "UpperBound = '2020-08-01 0:00:00'\n",
        "LowerBound = '2020-01-01 0:00:00'\n",
        "TestBound = '2020-07-01 0:00:00'\n",
        "\n",
        "\n",
        "\n",
        "df_range = pd.DataFrame()\n",
        "train_turbidity= pd.DataFrame()\n",
        "test_turbidity= pd.DataFrame()\n",
        "\n",
        "df_range['116507_63680']=df_turbidity['116507_63680'][LowerBound:UpperBound]\n",
        "\n",
        "train_turbidity['116507_63680']=df_range['116507_63680'][:TestBound]\n",
        "test_turbidity['116507_63680']=df_range['116507_63680'][TestBound:]\n",
        "\n",
        "train_turbidity['116507_63680'].plot(legend=True,label='TRAIN',figsize=(16,9))\n",
        "test_turbidity['116507_63680'].plot(legend=True,label='TEST',figsize=(16,9))\n",
        "\n",
        "train_turbidity.index.freq=\"15T\"\n",
        "test_turbidity.index.freq=\"15T\"\n",
        "\n",
        "plt.title('Series de Train y Test')\n",
        "\n",
        "print(\"Cjto Entrenamiento % :\",(train_turbidity.shape[0]/df_range.shape[0])*100)\n",
        "print(\"Cjto Test % :\",(test_turbidity.shape[0]/df_range.shape[0])*100)"
      ],
      "execution_count": null,
      "outputs": [
        {
          "output_type": "stream",
          "text": [
            "Cjto Entrenamiento % : 85.44672111105677\n",
            "Cjto Test % : 14.55816910362365\n"
          ],
          "name": "stdout"
        },
        {
          "output_type": "display_data",
          "data": {
            "image/png": "[encoded data removed]",
            "text/plain": [
              "<Figure size 1152x648 with 1 Axes>"
            ]
          },
          "metadata": {
            "tags": [],
            "needs_background": "light"
          }
        }
      ]
    },
    {
      "cell_type": "markdown",
      "metadata": {
        "id": "eE7X5OYfCKXZ"
      },
      "source": [
        "## P4.4  Evaluación de Resultados"
      ]
    },
    {
      "cell_type": "code",
      "metadata": {
        "id": "7fD8mnUqCXGe"
      },
      "source": [
        "def marshall_results(predictions,test):\n",
        "\n",
        "\n",
        "  df_results =pd.DataFrame(predictions)\n",
        "  df_results.reset_index(inplace=True)\n",
        "  df_results.columns=['ds','y_hat']\n",
        "  low=df_results['ds'][0]\n",
        "  high=df_results['ds'][df_results.shape[0]-1]\n",
        "  df_results['y']=test['116507_63680'][str(low):str(high)].values\n",
        "\n",
        "  y= df_results['y'].values\n",
        "  y_hat = df_results['y_hat'].values\n",
        "\n",
        "  return y_hat, y"
      ],
      "execution_count": null,
      "outputs": []
    },
    {
      "cell_type": "code",
      "metadata": {
        "id": "asBko7mTXW8I"
      },
      "source": [
        "def marshall_results_ARIMA(steps_fordward,test):\n",
        "  \n",
        "  workingcopy=pd.DataFrame() \n",
        "  workingcopy=test.copy()\n",
        "\n",
        "  workingcopy.reset_index(inplace=True)\n",
        "\n",
        "  low = workingcopy['datetime'][0]\n",
        "  high =workingcopy['datetime'][steps_fordward-1]\n",
        "  df_results=pd.DataFrame()\n",
        "  df_results['y']=test['116507_63680'][str(low):str(high)].values\n",
        "\n",
        "  y = df_results['y'].values\n",
        "\n",
        "  return y"
      ],
      "execution_count": null,
      "outputs": []
    },
    {
      "cell_type": "code",
      "metadata": {
        "id": "QYb2XfsqunkT"
      },
      "source": [
        "def marshall_results_Prophet(predictions,test):\n",
        " \n",
        "  data_prediction= predictions.copy()\n",
        "  data_prediction['ds']= pd.to_datetime(data_prediction['ds'])\n",
        "  data_prediction.index =data_prediction['ds'] \n",
        "  \n",
        "  low=data_prediction['ds'][0]\n",
        "  high=data_prediction['ds'][data_prediction.shape[0]-1]\n",
        "  \n",
        "  y= test['116507_63680'][str(low):str(high)].values\n",
        "  y_hat = data_prediction[TestBound:]['yhat'].values\n",
        "\n",
        "  return y_hat, y"
      ],
      "execution_count": null,
      "outputs": []
    },
    {
      "cell_type": "markdown",
      "metadata": {
        "id": "HdLEuFMbefsO"
      },
      "source": [
        "Los modelos Holt Winters se usa el modelo aditivo (trend='add') ya que el multiplicativo se usa cuando la serie tiene una tendencia, al menos localmente, y un patrón estacionalmente creciente. Que claramente no es el caso. En general, SimpleExpSmoothing puede ser usado  cuando tiene tendencia, pero no será muy adecuado si tiene un componente estacional. Por el contrario el Exponencia Smoothing es el filtro completo y proporciona nivel, tendencia y estacionalidad. Como se verá, el hecho de que SES tenga mejores ratios, implica que que la serie sólo tienen tendencia, cosa que ya hemos confirmado. "
      ]
    },
    {
      "cell_type": "markdown",
      "metadata": {
        "id": "o7wTunYc_Ws7"
      },
      "source": [
        "A continuación entrenamos los modelos:"
      ]
    },
    {
      "cell_type": "code",
      "metadata": {
        "id": "2SykYxMki_Pe",
        "colab": {
          "base_uri": "https://localhost:8080/"
        },
        "outputId": "e54ca357-6b38-4528-e9c5-4b50868e5464"
      },
      "source": [
        "m = 0.4\n",
        "alpha = 1/(2*m)\n",
        "\n",
        "fitted_SES=SimpleExpSmoothing(train_turbidity['116507_63680']).fit(smoothing_level=alpha,optimized=False,use_brute=True)\n"
      ],
      "execution_count": null,
      "outputs": [
        {
          "output_type": "stream",
          "text": [
            "/usr/local/lib/python3.7/dist-packages/statsmodels/tsa/holtwinters/model.py:429: FutureWarning:\n",
            "\n",
            "After 0.13 initialization must be handled at model creation\n",
            "\n"
          ],
          "name": "stderr"
        }
      ]
    },
    {
      "cell_type": "code",
      "metadata": {
        "id": "3gM1hRq93VvC",
        "colab": {
          "base_uri": "https://localhost:8080/"
        },
        "outputId": "9a2bf7b2-2d09-487e-fedd-a050ae2616ba"
      },
      "source": [
        "fitted_model = ExponentialSmoothing(train_turbidity['116507_63680'],trend='add').fit()\n"
      ],
      "execution_count": null,
      "outputs": [
        {
          "output_type": "stream",
          "text": [
            "/usr/local/lib/python3.7/dist-packages/statsmodels/tsa/holtwinters/model.py:429: FutureWarning:\n",
            "\n",
            "After 0.13 initialization must be handled at model creation\n",
            "\n"
          ],
          "name": "stderr"
        }
      ]
    },
    {
      "cell_type": "markdown",
      "metadata": {
        "id": "NKubqUyK_bPj"
      },
      "source": [
        "En el modelo prophet(), el intervalo de confianza se establece en el entrenamiento con interval_width=0.95"
      ]
    },
    {
      "cell_type": "code",
      "metadata": {
        "id": "-fjsNzwTqEaa",
        "colab": {
          "base_uri": "https://localhost:8080/"
        },
        "outputId": "290a10fb-3dd9-49e8-d624-616f0eadba7b"
      },
      "source": [
        "prophet_train_dataset = train_turbidity.copy()\n",
        "prophet_train_dataset.reset_index(inplace=True)\n",
        "\n",
        "prophet_train_dataset.columns = ['ds','y']\n",
        "prophet_predictor=Prophet(interval_width=0.95)\n",
        "prophet_predictor.fit(prophet_train_dataset)"
      ],
      "execution_count": null,
      "outputs": [
        {
          "output_type": "stream",
          "text": [
            "INFO:fbprophet:Disabling yearly seasonality. Run prophet with yearly_seasonality=True to override this.\n"
          ],
          "name": "stderr"
        },
        {
          "output_type": "execute_result",
          "data": {
            "text/plain": [
              "<fbprophet.forecaster.Prophet at 0x7fa9f6b71c90>"
            ]
          },
          "metadata": {
            "tags": []
          },
          "execution_count": 43
        }
      ]
    },
    {
      "cell_type": "code",
      "metadata": {
        "id": "tdKOxNYs9Ji4"
      },
      "source": [
        "import pickle\n",
        "#Si en vez de cargar el modelo se quiere entrenar entonces\n",
        "#habilite las líneas de código:\n",
        "\n",
        "model_auto=auto_arima(train_turbidity['116507_63680'])\n",
        "\n",
        "with open('arima.pkl', 'wb') as pkl:\n",
        "  pickle.dump(model_auto, pkl)\n",
        "\n",
        "\n",
        "#Si en vez de cargar el modelo se quiere entrenar entonces\n",
        "# INhabilite las líneas de código:\n",
        "#with open('arima.pkl', 'rb') as pkl:\n",
        "#    model_auto = pickle.load(pkl)"
      ],
      "execution_count": null,
      "outputs": []
    },
    {
      "cell_type": "code",
      "metadata": {
        "colab": {
          "base_uri": "https://localhost:8080/",
          "height": 387
        },
        "id": "R1qw-vMU0rVz",
        "outputId": "7035231f-a1b9-400b-fde4-05c3ba79185c"
      },
      "source": [
        "model_auto.summary()"
      ],
      "execution_count": null,
      "outputs": [
        {
          "output_type": "execute_result",
          "data": {
            "text/html": [
              "<table class=\"simpletable\">\n",
              "<caption>SARIMAX Results</caption>\n",
              "<tr>\n",
              "  <th>Dep. Variable:</th>           <td>y</td>        <th>  No. Observations:  </th>    <td>17473</td>  \n",
              "</tr>\n",
              "<tr>\n",
              "  <th>Model:</th>           <td>SARIMAX(1, 1, 2)</td> <th>  Log Likelihood     </th>  <td>12907.895</td>\n",
              "</tr>\n",
              "<tr>\n",
              "  <th>Date:</th>            <td>Sun, 20 Jun 2021</td> <th>  AIC                </th> <td>-25807.791</td>\n",
              "</tr>\n",
              "<tr>\n",
              "  <th>Time:</th>                <td>14:28:41</td>     <th>  BIC                </th> <td>-25776.717</td>\n",
              "</tr>\n",
              "<tr>\n",
              "  <th>Sample:</th>                  <td>0</td>        <th>  HQIC               </th> <td>-25797.557</td>\n",
              "</tr>\n",
              "<tr>\n",
              "  <th></th>                     <td> - 17473</td>     <th>                     </th>      <td> </td>    \n",
              "</tr>\n",
              "<tr>\n",
              "  <th>Covariance Type:</th>        <td>opg</td>       <th>                     </th>      <td> </td>    \n",
              "</tr>\n",
              "</table>\n",
              "<table class=\"simpletable\">\n",
              "<tr>\n",
              "     <td></td>       <th>coef</th>     <th>std err</th>      <th>z</th>      <th>P>|z|</th>  <th>[0.025</th>    <th>0.975]</th>  \n",
              "</tr>\n",
              "<tr>\n",
              "  <th>ar.L1</th>  <td>    0.4323</td> <td>    0.060</td> <td>    7.183</td> <td> 0.000</td> <td>    0.314</td> <td>    0.550</td>\n",
              "</tr>\n",
              "<tr>\n",
              "  <th>ma.L1</th>  <td>   -0.9715</td> <td>    0.061</td> <td>  -15.848</td> <td> 0.000</td> <td>   -1.092</td> <td>   -0.851</td>\n",
              "</tr>\n",
              "<tr>\n",
              "  <th>ma.L2</th>  <td>    0.1799</td> <td>    0.037</td> <td>    4.812</td> <td> 0.000</td> <td>    0.107</td> <td>    0.253</td>\n",
              "</tr>\n",
              "<tr>\n",
              "  <th>sigma2</th> <td>    0.0134</td> <td> 6.92e-05</td> <td>  193.008</td> <td> 0.000</td> <td>    0.013</td> <td>    0.013</td>\n",
              "</tr>\n",
              "</table>\n",
              "<table class=\"simpletable\">\n",
              "<tr>\n",
              "  <th>Ljung-Box (L1) (Q):</th>     <td>0.00</td> <th>  Jarque-Bera (JB):  </th> <td>37520.49</td>\n",
              "</tr>\n",
              "<tr>\n",
              "  <th>Prob(Q):</th>                <td>0.96</td> <th>  Prob(JB):          </th>   <td>0.00</td>  \n",
              "</tr>\n",
              "<tr>\n",
              "  <th>Heteroskedasticity (H):</th> <td>1.80</td> <th>  Skew:              </th>   <td>1.45</td>  \n",
              "</tr>\n",
              "<tr>\n",
              "  <th>Prob(H) (two-sided):</th>    <td>0.00</td> <th>  Kurtosis:          </th>   <td>9.56</td>  \n",
              "</tr>\n",
              "</table><br/><br/>Warnings:<br/>[1] Covariance matrix calculated using the outer product of gradients (complex-step)."
            ],
            "text/plain": [
              "<class 'statsmodels.iolib.summary.Summary'>\n",
              "\"\"\"\n",
              "                               SARIMAX Results                                \n",
              "==============================================================================\n",
              "Dep. Variable:                      y   No. Observations:                17473\n",
              "Model:               SARIMAX(1, 1, 2)   Log Likelihood               12907.895\n",
              "Date:                Sun, 20 Jun 2021   AIC                         -25807.791\n",
              "Time:                        14:28:41   BIC                         -25776.717\n",
              "Sample:                             0   HQIC                        -25797.557\n",
              "                              - 17473                                         \n",
              "Covariance Type:                  opg                                         \n",
              "==============================================================================\n",
              "                 coef    std err          z      P>|z|      [0.025      0.975]\n",
              "------------------------------------------------------------------------------\n",
              "ar.L1          0.4323      0.060      7.183      0.000       0.314       0.550\n",
              "ma.L1         -0.9715      0.061    -15.848      0.000      -1.092      -0.851\n",
              "ma.L2          0.1799      0.037      4.812      0.000       0.107       0.253\n",
              "sigma2         0.0134   6.92e-05    193.008      0.000       0.013       0.013\n",
              "===================================================================================\n",
              "Ljung-Box (L1) (Q):                   0.00   Jarque-Bera (JB):             37520.49\n",
              "Prob(Q):                              0.96   Prob(JB):                         0.00\n",
              "Heteroskedasticity (H):               1.80   Skew:                             1.45\n",
              "Prob(H) (two-sided):                  0.00   Kurtosis:                         9.56\n",
              "===================================================================================\n",
              "\n",
              "Warnings:\n",
              "[1] Covariance matrix calculated using the outer product of gradients (complex-step).\n",
              "\"\"\""
            ]
          },
          "metadata": {
            "tags": []
          },
          "execution_count": 69
        }
      ]
    },
    {
      "cell_type": "markdown",
      "metadata": {
        "id": "Pgb8M31RR0Pn"
      },
      "source": [
        "Definimos aquí los puntos donde comprobaremos los errores. Recordemos que 1H son 4 steps"
      ]
    },
    {
      "cell_type": "code",
      "metadata": {
        "id": "sOt89_1jhDgX"
      },
      "source": [
        "forecast_steps_dict = {\n",
        "  \"1H\": 4,\n",
        "  \"3H\": 12,\n",
        "  \"6H\": 24,\n",
        "  \"12H\": 48,\n",
        "  \"1D\": 96,\n",
        "  \"2D\": 192,\n",
        "  \"5D\": 480,\n",
        "  \"7D\": 672,\n",
        "  \"15D\": 1440\n",
        "}"
      ],
      "execution_count": null,
      "outputs": []
    },
    {
      "cell_type": "code",
      "metadata": {
        "id": "9xCKlmELnNid"
      },
      "source": [
        "models = list()\n",
        "models.append(fitted_SES)\n",
        "models.append(fitted_model)\n",
        "models.append(model_auto)\n",
        "models.append(prophet_predictor)\n"
      ],
      "execution_count": null,
      "outputs": []
    },
    {
      "cell_type": "code",
      "metadata": {
        "id": "qLRNT6UAOHyc"
      },
      "source": [
        "df_results= pd.DataFrame()\n",
        "#df_results.columns = [\"Estimator\",\"Horizon_Prediction\",\"MAE\",\"MEDAE\",\"MSE\",\"RMSE\",\"MAPE\",\"MDAPE\"]\n",
        "\n"
      ],
      "execution_count": null,
      "outputs": []
    },
    {
      "cell_type": "code",
      "metadata": {
        "colab": {
          "base_uri": "https://localhost:8080/"
        },
        "id": "oX8lDEGQoC8M",
        "outputId": "ca677e26-9bca-402e-f9e4-6562edda71a6"
      },
      "source": [
        "for current_model in models:\n",
        "\n",
        "  steps = forecast_steps_dict.keys()\n",
        "  \n",
        "  type_str=str(current_model)\n",
        "\n",
        "  print(\"                                                              \")\n",
        "  print(\"**************************************************************\")\n",
        "   \n",
        "\n",
        "  for t in steps:\n",
        "    \n",
        "        forecast_steps_iter=forecast_steps_dict[t]\n",
        "\n",
        "        print(\" -> \"+str(t))\n",
        "       \n",
        "        str_model = str(type(current_model))\n",
        "\n",
        "        if (str_model==\"<class 'pmdarima.arima.arima.ARIMA'>\"):\n",
        "         # print(current_model.summary())\n",
        "          id_model=\" AUTOARIMA   Confidence Interval 0.95\"\n",
        "          print(id_model)\n",
        "          y_forec  = current_model.predict(forecast_steps_iter,alpha=0.05)\n",
        "          y=marshall_results_ARIMA(forecast_steps_iter,test_turbidity)\n",
        "          MAE,MEDAE,MSE,RMSE,MAPE,MDAPE = calculate_error(y_forec,y)\n",
        "          SMAPE = calculate_error_smape(y_forec,y)\n",
        "\n",
        "        elif (str_model ==\"<class 'fbprophet.forecaster.Prophet'>\"):\n",
        "          #print(\" Prophet : Confidence Interval 0.95 \")\n",
        "          id_model = \" Prophet : Confidence Interval 0.95 \"\n",
        "          print(id_model)\n",
        "          future = current_model.make_future_dataframe(periods=forecast_steps_iter,freq='15min')\n",
        "          forecast=current_model.predict(future)\n",
        "          yhat,y_test = marshall_results_Prophet(forecast,test_turbidity)\n",
        "          MAE,MEDAE,MSE,RMSE,MAPE,MDAPE = calculate_error(yhat,y_test)\n",
        "          SMAPE = calculate_error_smape(yhat,y_test)\n",
        "\n",
        "        else:\n",
        "          #print(str(type(current_model)))\n",
        "          id_model = \" Holt-Winters : Confidence Interval 0.95 \"\n",
        "          print(id_model)\n",
        "          y_pred = current_model.forecast(forecast_steps_iter)\n",
        "          yhat,y_test = marshall_results(y_pred,test_turbidity)\n",
        "          MAE,MEDAE,MSE,RMSE,MAPE,MDAPE = calculate_error(yhat,y_test)\n",
        "          SMAPE = calculate_error_smape(yhat,y_test)\n",
        "\n",
        "          \n",
        "\n",
        "        new_row = {'Estimator':id_model, 'Horizon_Prediction':str(t), 'MAE':MAE, 'MEDAE':MEDAE, 'MSE':MSE, 'RMSE':RMSE, 'MAPE':MAPE, 'MDAPE':MDAPE, 'SMAPE':SMAPE}\n",
        "        df_results = df_results.append(new_row, ignore_index=True)\n",
        "        "
      ],
      "execution_count": null,
      "outputs": [
        {
          "output_type": "stream",
          "text": [
            "                                                              \n",
            "**************************************************************\n",
            " -> 1H\n",
            " Holt-Winters : Confidence Interval 0.95 \n",
            "Mean Absolute Error (MAE): 0.05\n",
            "Median Absolute Error (MedAE): 0.05\n",
            "Mean Squared Error (MSE): 0.0\n",
            "Root Mean Squared Error (RMSE): 0.07\n",
            "Mean Absolute Percentage Error (MAPE): 5.05 %\n",
            "Median Absolute Percentage Error (MDAPE): 5.05 %\n",
            " -> 3H\n",
            " Holt-Winters : Confidence Interval 0.95 \n",
            "Mean Absolute Error (MAE): 0.04\n",
            "Median Absolute Error (MedAE): 0.01\n",
            "Mean Squared Error (MSE): 0.0\n",
            "Root Mean Squared Error (RMSE): 0.06\n",
            "Mean Absolute Percentage Error (MAPE): 4.36 %\n",
            "Median Absolute Percentage Error (MDAPE): 0.92 %\n",
            " -> 6H\n",
            " Holt-Winters : Confidence Interval 0.95 \n",
            "Mean Absolute Error (MAE): 0.04\n",
            "Median Absolute Error (MedAE): 0.01\n",
            "Mean Squared Error (MSE): 0.0\n",
            "Root Mean Squared Error (RMSE): 0.06\n",
            "Mean Absolute Percentage Error (MAPE): 4.38 %\n",
            "Median Absolute Percentage Error (MDAPE): 0.92 %\n",
            " -> 12H\n",
            " Holt-Winters : Confidence Interval 0.95 \n",
            "Mean Absolute Error (MAE): 0.05\n",
            "Median Absolute Error (MedAE): 0.05\n",
            "Mean Squared Error (MSE): 0.0\n",
            "Root Mean Squared Error (RMSE): 0.07\n",
            "Mean Absolute Percentage Error (MAPE): 5.96 %\n",
            "Median Absolute Percentage Error (MDAPE): 5.05 %\n",
            " -> 1D\n",
            " Holt-Winters : Confidence Interval 0.95 \n",
            "Mean Absolute Error (MAE): 0.08\n",
            "Median Absolute Error (MedAE): 0.09\n",
            "Mean Squared Error (MSE): 0.01\n",
            "Root Mean Squared Error (RMSE): 0.11\n",
            "Mean Absolute Percentage Error (MAPE): 8.4 %\n",
            "Median Absolute Percentage Error (MDAPE): 9.17 %\n",
            " -> 2D\n",
            " Holt-Winters : Confidence Interval 0.95 \n",
            "Mean Absolute Error (MAE): 0.1\n",
            "Median Absolute Error (MedAE): 0.09\n",
            "Mean Squared Error (MSE): 0.02\n",
            "Root Mean Squared Error (RMSE): 0.14\n",
            "Mean Absolute Percentage Error (MAPE): 9.81 %\n",
            "Median Absolute Percentage Error (MDAPE): 9.17 %\n",
            " -> 5D\n",
            " Holt-Winters : Confidence Interval 0.95 \n",
            "Mean Absolute Error (MAE): 0.13\n",
            "Median Absolute Error (MedAE): 0.11\n",
            "Mean Squared Error (MSE): 0.02\n",
            "Root Mean Squared Error (RMSE): 0.15\n",
            "Mean Absolute Percentage Error (MAPE): 13.19 %\n",
            "Median Absolute Percentage Error (MDAPE): 13.54 %\n",
            " -> 7D\n",
            " Holt-Winters : Confidence Interval 0.95 \n",
            "Mean Absolute Error (MAE): 0.12\n",
            "Median Absolute Error (MedAE): 0.11\n",
            "Mean Squared Error (MSE): 0.02\n",
            "Root Mean Squared Error (RMSE): 0.14\n",
            "Mean Absolute Percentage Error (MAPE): 12.37 %\n",
            "Median Absolute Percentage Error (MDAPE): 13.54 %\n",
            " -> 15D\n",
            " Holt-Winters : Confidence Interval 0.95 \n",
            "Mean Absolute Error (MAE): 0.09\n",
            "Median Absolute Error (MedAE): 0.09\n",
            "Mean Squared Error (MSE): 0.01\n",
            "Root Mean Squared Error (RMSE): 0.12\n",
            "Mean Absolute Percentage Error (MAPE): 9.89 %\n",
            "Median Absolute Percentage Error (MDAPE): 9.17 %\n",
            "                                                              \n",
            "**************************************************************\n",
            " -> 1H\n",
            " Holt-Winters : Confidence Interval 0.95 \n",
            "Mean Absolute Error (MAE): 0.05\n",
            "Median Absolute Error (MedAE): 0.05\n",
            "Mean Squared Error (MSE): 0.0\n",
            "Root Mean Squared Error (RMSE): 0.06\n",
            "Mean Absolute Percentage Error (MAPE): 5.1 %\n",
            "Median Absolute Percentage Error (MDAPE): 5.11 %\n",
            " -> 3H\n",
            " Holt-Winters : Confidence Interval 0.95 \n",
            "Mean Absolute Error (MAE): 0.04\n",
            "Median Absolute Error (MedAE): 0.02\n",
            "Mean Squared Error (MSE): 0.0\n",
            "Root Mean Squared Error (RMSE): 0.05\n",
            "Mean Absolute Percentage Error (MAPE): 4.56 %\n",
            "Median Absolute Percentage Error (MDAPE): 2.0 %\n",
            " -> 6H\n",
            " Holt-Winters : Confidence Interval 0.95 \n",
            "Mean Absolute Error (MAE): 0.04\n",
            "Median Absolute Error (MedAE): 0.02\n",
            "Mean Squared Error (MSE): 0.0\n",
            "Root Mean Squared Error (RMSE): 0.06\n",
            "Mean Absolute Percentage Error (MAPE): 4.78 %\n",
            "Median Absolute Percentage Error (MDAPE): 1.93 %\n",
            " -> 12H\n",
            " Holt-Winters : Confidence Interval 0.95 \n",
            "Mean Absolute Error (MAE): 0.06\n",
            "Median Absolute Error (MedAE): 0.05\n",
            "Mean Squared Error (MSE): 0.0\n",
            "Root Mean Squared Error (RMSE): 0.07\n",
            "Mean Absolute Percentage Error (MAPE): 6.28 %\n",
            "Median Absolute Percentage Error (MDAPE): 5.11 %\n",
            " -> 1D\n",
            " Holt-Winters : Confidence Interval 0.95 \n",
            "Mean Absolute Error (MAE): 0.09\n",
            "Median Absolute Error (MedAE): 0.09\n",
            "Mean Squared Error (MSE): 0.01\n",
            "Root Mean Squared Error (RMSE): 0.11\n",
            "Mean Absolute Percentage Error (MAPE): 8.57 %\n",
            "Median Absolute Percentage Error (MDAPE): 8.9 %\n",
            " -> 2D\n",
            " Holt-Winters : Confidence Interval 0.95 \n",
            "Mean Absolute Error (MAE): 0.11\n",
            "Median Absolute Error (MedAE): 0.1\n",
            "Mean Squared Error (MSE): 0.02\n",
            "Root Mean Squared Error (RMSE): 0.15\n",
            "Mean Absolute Percentage Error (MAPE): 10.17 %\n",
            "Median Absolute Percentage Error (MDAPE): 9.51 %\n",
            " -> 5D\n",
            " Holt-Winters : Confidence Interval 0.95 \n",
            "Mean Absolute Error (MAE): 0.12\n",
            "Median Absolute Error (MedAE): 0.1\n",
            "Mean Squared Error (MSE): 0.02\n",
            "Root Mean Squared Error (RMSE): 0.15\n",
            "Mean Absolute Percentage Error (MAPE): 12.5 %\n",
            "Median Absolute Percentage Error (MDAPE): 10.16 %\n",
            " -> 7D\n",
            " Holt-Winters : Confidence Interval 0.95 \n",
            "Mean Absolute Error (MAE): 0.11\n",
            "Median Absolute Error (MedAE): 0.08\n",
            "Mean Squared Error (MSE): 0.02\n",
            "Root Mean Squared Error (RMSE): 0.14\n",
            "Mean Absolute Percentage Error (MAPE): 11.51 %\n",
            "Median Absolute Percentage Error (MDAPE): 9.1 %\n",
            " -> 15D\n",
            " Holt-Winters : Confidence Interval 0.95 \n",
            "Mean Absolute Error (MAE): 0.13\n",
            "Median Absolute Error (MedAE): 0.11\n",
            "Mean Squared Error (MSE): 0.03\n",
            "Root Mean Squared Error (RMSE): 0.16\n",
            "Mean Absolute Percentage Error (MAPE): 13.67 %\n",
            "Median Absolute Percentage Error (MDAPE): 11.73 %\n",
            "                                                              \n",
            "**************************************************************\n",
            " -> 1H\n",
            " AUTOARIMA   Confidence Interval 0.95\n",
            "Mean Absolute Error (MAE): 0.05\n",
            "Median Absolute Error (MedAE): 0.05\n",
            "Mean Squared Error (MSE): 0.0\n",
            "Root Mean Squared Error (RMSE): 0.06\n",
            "Mean Absolute Percentage Error (MAPE): 4.99 %\n",
            "Median Absolute Percentage Error (MDAPE): 5.04 %\n",
            " -> 3H\n",
            " AUTOARIMA   Confidence Interval 0.95\n",
            "Mean Absolute Error (MAE): 0.04\n",
            "Median Absolute Error (MedAE): 0.02\n",
            "Mean Squared Error (MSE): 0.0\n",
            "Root Mean Squared Error (RMSE): 0.05\n",
            "Mean Absolute Percentage Error (MAPE): 4.02 %\n",
            "Median Absolute Percentage Error (MDAPE): 1.98 %\n",
            " -> 6H\n",
            " AUTOARIMA   Confidence Interval 0.95\n",
            "Mean Absolute Error (MAE): 0.04\n",
            "Median Absolute Error (MedAE): 0.02\n",
            "Mean Squared Error (MSE): 0.0\n",
            "Root Mean Squared Error (RMSE): 0.05\n",
            "Mean Absolute Percentage Error (MAPE): 4.31 %\n",
            "Median Absolute Percentage Error (MDAPE): 1.98 %\n",
            " -> 12H\n",
            " AUTOARIMA   Confidence Interval 0.95\n",
            "Mean Absolute Error (MAE): 0.06\n",
            "Median Absolute Error (MedAE): 0.02\n",
            "Mean Squared Error (MSE): 0.0\n",
            "Root Mean Squared Error (RMSE): 0.07\n",
            "Mean Absolute Percentage Error (MAPE): 6.18 %\n",
            "Median Absolute Percentage Error (MDAPE): 1.98 %\n",
            " -> 1D\n",
            " AUTOARIMA   Confidence Interval 0.95\n",
            "Mean Absolute Error (MAE): 0.08\n",
            "Median Absolute Error (MedAE): 0.08\n",
            "Mean Squared Error (MSE): 0.01\n",
            "Root Mean Squared Error (RMSE): 0.11\n",
            "Mean Absolute Percentage Error (MAPE): 8.29 %\n",
            "Median Absolute Percentage Error (MDAPE): 8.22 %\n",
            " -> 2D\n",
            " AUTOARIMA   Confidence Interval 0.95\n",
            "Mean Absolute Error (MAE): 0.1\n",
            "Median Absolute Error (MedAE): 0.08\n",
            "Mean Squared Error (MSE): 0.02\n",
            "Root Mean Squared Error (RMSE): 0.14\n",
            "Mean Absolute Percentage Error (MAPE): 9.52 %\n",
            "Median Absolute Percentage Error (MDAPE): 8.22 %\n",
            " -> 5D\n",
            " AUTOARIMA   Confidence Interval 0.95\n",
            "Mean Absolute Error (MAE): 0.12\n",
            "Median Absolute Error (MedAE): 0.12\n",
            "Mean Squared Error (MSE): 0.02\n",
            "Root Mean Squared Error (RMSE): 0.15\n",
            "Mean Absolute Percentage Error (MAPE): 13.21 %\n",
            "Median Absolute Percentage Error (MDAPE): 14.73 %\n",
            " -> 7D\n",
            " AUTOARIMA   Confidence Interval 0.95\n",
            "Mean Absolute Error (MAE): 0.12\n",
            "Median Absolute Error (MedAE): 0.12\n",
            "Mean Squared Error (MSE): 0.02\n",
            "Root Mean Squared Error (RMSE): 0.14\n",
            "Mean Absolute Percentage Error (MAPE): 12.64 %\n",
            "Median Absolute Percentage Error (MDAPE): 14.73 %\n",
            " -> 15D\n",
            " AUTOARIMA   Confidence Interval 0.95\n",
            "Mean Absolute Error (MAE): 0.09\n",
            "Median Absolute Error (MedAE): 0.08\n",
            "Mean Squared Error (MSE): 0.01\n",
            "Root Mean Squared Error (RMSE): 0.12\n",
            "Mean Absolute Percentage Error (MAPE): 10.15 %\n",
            "Median Absolute Percentage Error (MDAPE): 8.22 %\n",
            "                                                              \n",
            "**************************************************************\n",
            " -> 1H\n",
            " Prophet : Confidence Interval 0.95 \n",
            "Mean Absolute Error (MAE): 0.21\n",
            "Median Absolute Error (MedAE): 0.17\n",
            "Mean Squared Error (MSE): 0.05\n",
            "Root Mean Squared Error (RMSE): 0.22\n",
            "Mean Absolute Percentage Error (MAPE): 22.14 %\n",
            "Median Absolute Percentage Error (MDAPE): 19.2 %\n",
            " -> 3H\n",
            " Prophet : Confidence Interval 0.95 \n",
            "Mean Absolute Error (MAE): 0.21\n",
            "Median Absolute Error (MedAE): 0.17\n",
            "Mean Squared Error (MSE): 0.05\n",
            "Root Mean Squared Error (RMSE): 0.22\n",
            "Mean Absolute Percentage Error (MAPE): 22.22 %\n",
            "Median Absolute Percentage Error (MDAPE): 19.33 %\n",
            " -> 6H\n",
            " Prophet : Confidence Interval 0.95 \n",
            "Mean Absolute Error (MAE): 0.19\n",
            "Median Absolute Error (MedAE): 0.17\n",
            "Mean Squared Error (MSE): 0.04\n",
            "Root Mean Squared Error (RMSE): 0.2\n",
            "Mean Absolute Percentage Error (MAPE): 20.29 %\n",
            "Median Absolute Percentage Error (MDAPE): 19.14 %\n",
            " -> 12H\n",
            " Prophet : Confidence Interval 0.95 \n",
            "Mean Absolute Error (MAE): 0.17\n",
            "Median Absolute Error (MedAE): 0.17\n",
            "Mean Squared Error (MSE): 0.03\n",
            "Root Mean Squared Error (RMSE): 0.18\n",
            "Mean Absolute Percentage Error (MAPE): 18.06 %\n",
            "Median Absolute Percentage Error (MDAPE): 18.55 %\n",
            " -> 1D\n",
            " Prophet : Confidence Interval 0.95 \n",
            "Mean Absolute Error (MAE): 0.24\n",
            "Median Absolute Error (MedAE): 0.25\n",
            "Mean Squared Error (MSE): 0.07\n",
            "Root Mean Squared Error (RMSE): 0.27\n",
            "Mean Absolute Percentage Error (MAPE): 24.24 %\n",
            "Median Absolute Percentage Error (MDAPE): 25.48 %\n",
            " -> 2D\n",
            " Prophet : Confidence Interval 0.95 \n",
            "Mean Absolute Error (MAE): 0.33\n",
            "Median Absolute Error (MedAE): 0.32\n",
            "Mean Squared Error (MSE): 0.14\n",
            "Root Mean Squared Error (RMSE): 0.37\n",
            "Mean Absolute Percentage Error (MAPE): 32.45 %\n",
            "Median Absolute Percentage Error (MDAPE): 32.39 %\n",
            " -> 5D\n",
            " Prophet : Confidence Interval 0.95 \n",
            "Mean Absolute Error (MAE): 0.4\n",
            "Median Absolute Error (MedAE): 0.38\n",
            "Mean Squared Error (MSE): 0.18\n",
            "Root Mean Squared Error (RMSE): 0.43\n",
            "Mean Absolute Percentage Error (MAPE): 41.09 %\n",
            "Median Absolute Percentage Error (MDAPE): 42.38 %\n",
            " -> 7D\n",
            " Prophet : Confidence Interval 0.95 \n",
            "Mean Absolute Error (MAE): 0.4\n",
            "Median Absolute Error (MedAE): 0.38\n",
            "Mean Squared Error (MSE): 0.18\n",
            "Root Mean Squared Error (RMSE): 0.43\n",
            "Mean Absolute Percentage Error (MAPE): 42.85 %\n",
            "Median Absolute Percentage Error (MDAPE): 44.58 %\n",
            " -> 15D\n",
            " Prophet : Confidence Interval 0.95 \n",
            "Mean Absolute Error (MAE): 0.54\n",
            "Median Absolute Error (MedAE): 0.55\n",
            "Mean Squared Error (MSE): 0.33\n",
            "Root Mean Squared Error (RMSE): 0.58\n",
            "Mean Absolute Percentage Error (MAPE): 58.1 %\n",
            "Median Absolute Percentage Error (MDAPE): 56.57 %\n"
          ],
          "name": "stdout"
        }
      ]
    },
    {
      "cell_type": "code",
      "metadata": {
        "id": "goKz4I5bSH7i"
      },
      "source": [
        "#df_results= pd.read_csv('results.csv', delimiter=',')\n",
        "df_results.to_csv('results.csv')\n"
      ],
      "execution_count": null,
      "outputs": []
    },
    {
      "cell_type": "code",
      "metadata": {
        "id": "BXdxKSOifRW-"
      },
      "source": [
        "df_results.to_csv('results.csv')"
      ],
      "execution_count": null,
      "outputs": []
    },
    {
      "cell_type": "code",
      "metadata": {
        "id": "BAbE5JOdeiat"
      },
      "source": [
        "df_results_1H = df_results[df_results['Horizon_Prediction']==\"1H\"]\n",
        "df_results_3H = df_results[df_results['Horizon_Prediction']==\"3H\"]\n",
        "df_results_6H = df_results[df_results['Horizon_Prediction']==\"6H\"]\n",
        "df_results_12H = df_results[df_results['Horizon_Prediction']==\"12H\"]\n",
        "df_results_1D = df_results[df_results['Horizon_Prediction']==\"1D\"]\n",
        "df_results_2D = df_results[df_results['Horizon_Prediction']==\"2D\"]\n",
        "df_results_5D = df_results[df_results['Horizon_Prediction']==\"5D\"]\n",
        "df_results_7D = df_results[df_results['Horizon_Prediction']==\"7D\"]\n",
        "df_results_15D = df_results[df_results['Horizon_Prediction']==\"15D\"]\n",
        "df_Arima= df_results[df_results['Estimator']==\"AUTOARIMA Confidence Interval 0.95\t\"]"
      ],
      "execution_count": null,
      "outputs": []
    },
    {
      "cell_type": "code",
      "metadata": {
        "colab": {
          "base_uri": "https://localhost:8080/",
          "height": 167
        },
        "id": "tclQdWnGfpqG",
        "outputId": "2b3b97b7-14e8-4a31-accf-57061fb85a44"
      },
      "source": [
        "df_results_1H"
      ],
      "execution_count": null,
      "outputs": [
        {
          "output_type": "execute_result",
          "data": {
            "text/html": [
              "<div>\n",
              "<style scoped>\n",
              "    .dataframe tbody tr th:only-of-type {\n",
              "        vertical-align: middle;\n",
              "    }\n",
              "\n",
              "    .dataframe tbody tr th {\n",
              "        vertical-align: top;\n",
              "    }\n",
              "\n",
              "    .dataframe thead th {\n",
              "        text-align: right;\n",
              "    }\n",
              "</style>\n",
              "<table border=\"1\" class=\"dataframe\">\n",
              "  <thead>\n",
              "    <tr style=\"text-align: right;\">\n",
              "      <th></th>\n",
              "      <th>Estimator</th>\n",
              "      <th>Horizon_Prediction</th>\n",
              "      <th>MAE</th>\n",
              "      <th>MAPE</th>\n",
              "      <th>MDAPE</th>\n",
              "      <th>MEDAE</th>\n",
              "      <th>MSE</th>\n",
              "      <th>RMSE</th>\n",
              "      <th>SMAPE</th>\n",
              "    </tr>\n",
              "  </thead>\n",
              "  <tbody>\n",
              "    <tr>\n",
              "      <th>0</th>\n",
              "      <td>Holt-Winters : Confidence Interval 0.95</td>\n",
              "      <td>1H</td>\n",
              "      <td>0.050000</td>\n",
              "      <td>5.046117</td>\n",
              "      <td>5.046117</td>\n",
              "      <td>0.050000</td>\n",
              "      <td>0.004239</td>\n",
              "      <td>0.065106</td>\n",
              "      <td>5.264319</td>\n",
              "    </tr>\n",
              "    <tr>\n",
              "      <th>9</th>\n",
              "      <td>Holt-Winters : Confidence Interval 0.95</td>\n",
              "      <td>1H</td>\n",
              "      <td>0.050000</td>\n",
              "      <td>5.099850</td>\n",
              "      <td>5.107354</td>\n",
              "      <td>0.050064</td>\n",
              "      <td>0.003526</td>\n",
              "      <td>0.059378</td>\n",
              "      <td>5.265382</td>\n",
              "    </tr>\n",
              "    <tr>\n",
              "      <th>18</th>\n",
              "      <td>AUTOARIMA   Confidence Interval 0.95</td>\n",
              "      <td>1H</td>\n",
              "      <td>0.049086</td>\n",
              "      <td>4.994981</td>\n",
              "      <td>5.036173</td>\n",
              "      <td>0.049448</td>\n",
              "      <td>0.003534</td>\n",
              "      <td>0.059449</td>\n",
              "      <td>5.165546</td>\n",
              "    </tr>\n",
              "    <tr>\n",
              "      <th>27</th>\n",
              "      <td>Prophet : Confidence Interval 0.95</td>\n",
              "      <td>1H</td>\n",
              "      <td>0.210093</td>\n",
              "      <td>22.139149</td>\n",
              "      <td>19.196250</td>\n",
              "      <td>0.172766</td>\n",
              "      <td>0.046618</td>\n",
              "      <td>0.215913</td>\n",
              "      <td>25.013151</td>\n",
              "    </tr>\n",
              "  </tbody>\n",
              "</table>\n",
              "</div>"
            ],
            "text/plain": [
              "                                    Estimator  ...      SMAPE\n",
              "0    Holt-Winters : Confidence Interval 0.95   ...   5.264319\n",
              "9    Holt-Winters : Confidence Interval 0.95   ...   5.265382\n",
              "18       AUTOARIMA   Confidence Interval 0.95  ...   5.165546\n",
              "27        Prophet : Confidence Interval 0.95   ...  25.013151\n",
              "\n",
              "[4 rows x 9 columns]"
            ]
          },
          "metadata": {
            "tags": []
          },
          "execution_count": 53
        }
      ]
    },
    {
      "cell_type": "code",
      "metadata": {
        "colab": {
          "base_uri": "https://localhost:8080/",
          "height": 167
        },
        "id": "I0G7LPeef7NE",
        "outputId": "d5e8fc45-90e1-40b7-8ebc-b7861bae41f7"
      },
      "source": [
        "df_results_3H"
      ],
      "execution_count": null,
      "outputs": [
        {
          "output_type": "execute_result",
          "data": {
            "text/html": [
              "<div>\n",
              "<style scoped>\n",
              "    .dataframe tbody tr th:only-of-type {\n",
              "        vertical-align: middle;\n",
              "    }\n",
              "\n",
              "    .dataframe tbody tr th {\n",
              "        vertical-align: top;\n",
              "    }\n",
              "\n",
              "    .dataframe thead th {\n",
              "        text-align: right;\n",
              "    }\n",
              "</style>\n",
              "<table border=\"1\" class=\"dataframe\">\n",
              "  <thead>\n",
              "    <tr style=\"text-align: right;\">\n",
              "      <th></th>\n",
              "      <th>Estimator</th>\n",
              "      <th>Horizon_Prediction</th>\n",
              "      <th>MAE</th>\n",
              "      <th>MAPE</th>\n",
              "      <th>MDAPE</th>\n",
              "      <th>MEDAE</th>\n",
              "      <th>MSE</th>\n",
              "      <th>RMSE</th>\n",
              "      <th>SMAPE</th>\n",
              "    </tr>\n",
              "  </thead>\n",
              "  <tbody>\n",
              "    <tr>\n",
              "      <th>1</th>\n",
              "      <td>Holt-Winters : Confidence Interval 0.95</td>\n",
              "      <td>3H</td>\n",
              "      <td>0.043050</td>\n",
              "      <td>4.358822</td>\n",
              "      <td>0.922345</td>\n",
              "      <td>0.008301</td>\n",
              "      <td>0.003544</td>\n",
              "      <td>0.059530</td>\n",
              "      <td>4.539951</td>\n",
              "    </tr>\n",
              "    <tr>\n",
              "      <th>10</th>\n",
              "      <td>Holt-Winters : Confidence Interval 0.95</td>\n",
              "      <td>3H</td>\n",
              "      <td>0.044480</td>\n",
              "      <td>4.560612</td>\n",
              "      <td>1.996998</td>\n",
              "      <td>0.017973</td>\n",
              "      <td>0.003007</td>\n",
              "      <td>0.054837</td>\n",
              "      <td>4.697469</td>\n",
              "    </tr>\n",
              "    <tr>\n",
              "      <th>19</th>\n",
              "      <td>AUTOARIMA   Confidence Interval 0.95</td>\n",
              "      <td>3H</td>\n",
              "      <td>0.038958</td>\n",
              "      <td>4.023419</td>\n",
              "      <td>1.978012</td>\n",
              "      <td>0.017802</td>\n",
              "      <td>0.002463</td>\n",
              "      <td>0.049630</td>\n",
              "      <td>4.129375</td>\n",
              "    </tr>\n",
              "    <tr>\n",
              "      <th>28</th>\n",
              "      <td>Prophet : Confidence Interval 0.95</td>\n",
              "      <td>3H</td>\n",
              "      <td>0.210469</td>\n",
              "      <td>22.222290</td>\n",
              "      <td>19.326445</td>\n",
              "      <td>0.173938</td>\n",
              "      <td>0.046682</td>\n",
              "      <td>0.216061</td>\n",
              "      <td>25.112757</td>\n",
              "    </tr>\n",
              "  </tbody>\n",
              "</table>\n",
              "</div>"
            ],
            "text/plain": [
              "                                    Estimator  ...      SMAPE\n",
              "1    Holt-Winters : Confidence Interval 0.95   ...   4.539951\n",
              "10   Holt-Winters : Confidence Interval 0.95   ...   4.697469\n",
              "19       AUTOARIMA   Confidence Interval 0.95  ...   4.129375\n",
              "28        Prophet : Confidence Interval 0.95   ...  25.112757\n",
              "\n",
              "[4 rows x 9 columns]"
            ]
          },
          "metadata": {
            "tags": []
          },
          "execution_count": 54
        }
      ]
    },
    {
      "cell_type": "code",
      "metadata": {
        "colab": {
          "base_uri": "https://localhost:8080/",
          "height": 167
        },
        "id": "aAzV-m20gj9p",
        "outputId": "ff0f1396-2021-4685-e3e5-7246c2b7144b"
      },
      "source": [
        "df_results_6H"
      ],
      "execution_count": null,
      "outputs": [
        {
          "output_type": "execute_result",
          "data": {
            "text/html": [
              "<div>\n",
              "<style scoped>\n",
              "    .dataframe tbody tr th:only-of-type {\n",
              "        vertical-align: middle;\n",
              "    }\n",
              "\n",
              "    .dataframe tbody tr th {\n",
              "        vertical-align: top;\n",
              "    }\n",
              "\n",
              "    .dataframe thead th {\n",
              "        text-align: right;\n",
              "    }\n",
              "</style>\n",
              "<table border=\"1\" class=\"dataframe\">\n",
              "  <thead>\n",
              "    <tr style=\"text-align: right;\">\n",
              "      <th></th>\n",
              "      <th>Estimator</th>\n",
              "      <th>Horizon_Prediction</th>\n",
              "      <th>MAE</th>\n",
              "      <th>MAPE</th>\n",
              "      <th>MDAPE</th>\n",
              "      <th>MEDAE</th>\n",
              "      <th>MSE</th>\n",
              "      <th>RMSE</th>\n",
              "      <th>SMAPE</th>\n",
              "    </tr>\n",
              "  </thead>\n",
              "  <tbody>\n",
              "    <tr>\n",
              "      <th>2</th>\n",
              "      <td>Holt-Winters : Confidence Interval 0.95</td>\n",
              "      <td>6H</td>\n",
              "      <td>0.040959</td>\n",
              "      <td>4.379153</td>\n",
              "      <td>0.922345</td>\n",
              "      <td>0.008301</td>\n",
              "      <td>0.003473</td>\n",
              "      <td>0.058932</td>\n",
              "      <td>4.433506</td>\n",
              "    </tr>\n",
              "    <tr>\n",
              "      <th>11</th>\n",
              "      <td>Holt-Winters : Confidence Interval 0.95</td>\n",
              "      <td>6H</td>\n",
              "      <td>0.044222</td>\n",
              "      <td>4.778949</td>\n",
              "      <td>1.925527</td>\n",
              "      <td>0.017330</td>\n",
              "      <td>0.003297</td>\n",
              "      <td>0.057419</td>\n",
              "      <td>4.791510</td>\n",
              "    </tr>\n",
              "    <tr>\n",
              "      <th>20</th>\n",
              "      <td>AUTOARIMA   Confidence Interval 0.95</td>\n",
              "      <td>6H</td>\n",
              "      <td>0.040597</td>\n",
              "      <td>4.312108</td>\n",
              "      <td>1.978144</td>\n",
              "      <td>0.017803</td>\n",
              "      <td>0.002760</td>\n",
              "      <td>0.052536</td>\n",
              "      <td>4.360589</td>\n",
              "    </tr>\n",
              "    <tr>\n",
              "      <th>29</th>\n",
              "      <td>Prophet : Confidence Interval 0.95</td>\n",
              "      <td>6H</td>\n",
              "      <td>0.189505</td>\n",
              "      <td>20.288408</td>\n",
              "      <td>19.136668</td>\n",
              "      <td>0.172230</td>\n",
              "      <td>0.039228</td>\n",
              "      <td>0.198060</td>\n",
              "      <td>22.754783</td>\n",
              "    </tr>\n",
              "  </tbody>\n",
              "</table>\n",
              "</div>"
            ],
            "text/plain": [
              "                                    Estimator  ...      SMAPE\n",
              "2    Holt-Winters : Confidence Interval 0.95   ...   4.433506\n",
              "11   Holt-Winters : Confidence Interval 0.95   ...   4.791510\n",
              "20       AUTOARIMA   Confidence Interval 0.95  ...   4.360589\n",
              "29        Prophet : Confidence Interval 0.95   ...  22.754783\n",
              "\n",
              "[4 rows x 9 columns]"
            ]
          },
          "metadata": {
            "tags": []
          },
          "execution_count": 55
        }
      ]
    },
    {
      "cell_type": "code",
      "metadata": {
        "colab": {
          "base_uri": "https://localhost:8080/",
          "height": 167
        },
        "id": "UYbDeDaegusm",
        "outputId": "74578dd8-8cd3-4860-ec14-4c6f70b68b93"
      },
      "source": [
        "df_results_12H"
      ],
      "execution_count": null,
      "outputs": [
        {
          "output_type": "execute_result",
          "data": {
            "text/html": [
              "<div>\n",
              "<style scoped>\n",
              "    .dataframe tbody tr th:only-of-type {\n",
              "        vertical-align: middle;\n",
              "    }\n",
              "\n",
              "    .dataframe tbody tr th {\n",
              "        vertical-align: top;\n",
              "    }\n",
              "\n",
              "    .dataframe thead th {\n",
              "        text-align: right;\n",
              "    }\n",
              "</style>\n",
              "<table border=\"1\" class=\"dataframe\">\n",
              "  <thead>\n",
              "    <tr style=\"text-align: right;\">\n",
              "      <th></th>\n",
              "      <th>Estimator</th>\n",
              "      <th>Horizon_Prediction</th>\n",
              "      <th>MAE</th>\n",
              "      <th>MAPE</th>\n",
              "      <th>MDAPE</th>\n",
              "      <th>MEDAE</th>\n",
              "      <th>MSE</th>\n",
              "      <th>RMSE</th>\n",
              "      <th>SMAPE</th>\n",
              "    </tr>\n",
              "  </thead>\n",
              "  <tbody>\n",
              "    <tr>\n",
              "      <th>3</th>\n",
              "      <td>Holt-Winters : Confidence Interval 0.95</td>\n",
              "      <td>12H</td>\n",
              "      <td>0.053459</td>\n",
              "      <td>5.956065</td>\n",
              "      <td>5.046117</td>\n",
              "      <td>0.050000</td>\n",
              "      <td>0.004931</td>\n",
              "      <td>0.070218</td>\n",
              "      <td>5.903666</td>\n",
              "    </tr>\n",
              "    <tr>\n",
              "      <th>12</th>\n",
              "      <td>Holt-Winters : Confidence Interval 0.95</td>\n",
              "      <td>12H</td>\n",
              "      <td>0.056031</td>\n",
              "      <td>6.280590</td>\n",
              "      <td>5.107354</td>\n",
              "      <td>0.050064</td>\n",
              "      <td>0.004884</td>\n",
              "      <td>0.069883</td>\n",
              "      <td>6.185771</td>\n",
              "    </tr>\n",
              "    <tr>\n",
              "      <th>21</th>\n",
              "      <td>AUTOARIMA   Confidence Interval 0.95</td>\n",
              "      <td>12H</td>\n",
              "      <td>0.055257</td>\n",
              "      <td>6.179893</td>\n",
              "      <td>1.978144</td>\n",
              "      <td>0.017803</td>\n",
              "      <td>0.004738</td>\n",
              "      <td>0.068831</td>\n",
              "      <td>6.083571</td>\n",
              "    </tr>\n",
              "    <tr>\n",
              "      <th>30</th>\n",
              "      <td>Prophet : Confidence Interval 0.95</td>\n",
              "      <td>12H</td>\n",
              "      <td>0.168782</td>\n",
              "      <td>18.062662</td>\n",
              "      <td>18.545317</td>\n",
              "      <td>0.166908</td>\n",
              "      <td>0.033962</td>\n",
              "      <td>0.184289</td>\n",
              "      <td>20.172248</td>\n",
              "    </tr>\n",
              "  </tbody>\n",
              "</table>\n",
              "</div>"
            ],
            "text/plain": [
              "                                    Estimator  ...      SMAPE\n",
              "3    Holt-Winters : Confidence Interval 0.95   ...   5.903666\n",
              "12   Holt-Winters : Confidence Interval 0.95   ...   6.185771\n",
              "21       AUTOARIMA   Confidence Interval 0.95  ...   6.083571\n",
              "30        Prophet : Confidence Interval 0.95   ...  20.172248\n",
              "\n",
              "[4 rows x 9 columns]"
            ]
          },
          "metadata": {
            "tags": []
          },
          "execution_count": 56
        }
      ]
    },
    {
      "cell_type": "code",
      "metadata": {
        "colab": {
          "base_uri": "https://localhost:8080/",
          "height": 167
        },
        "id": "ehlYiUmAg5nq",
        "outputId": "25f45f80-5a17-4542-ce23-1ef4c489d5a4"
      },
      "source": [
        "df_results_1D"
      ],
      "execution_count": null,
      "outputs": [
        {
          "output_type": "execute_result",
          "data": {
            "text/html": [
              "<div>\n",
              "<style scoped>\n",
              "    .dataframe tbody tr th:only-of-type {\n",
              "        vertical-align: middle;\n",
              "    }\n",
              "\n",
              "    .dataframe tbody tr th {\n",
              "        vertical-align: top;\n",
              "    }\n",
              "\n",
              "    .dataframe thead th {\n",
              "        text-align: right;\n",
              "    }\n",
              "</style>\n",
              "<table border=\"1\" class=\"dataframe\">\n",
              "  <thead>\n",
              "    <tr style=\"text-align: right;\">\n",
              "      <th></th>\n",
              "      <th>Estimator</th>\n",
              "      <th>Horizon_Prediction</th>\n",
              "      <th>MAE</th>\n",
              "      <th>MAPE</th>\n",
              "      <th>MDAPE</th>\n",
              "      <th>MEDAE</th>\n",
              "      <th>MSE</th>\n",
              "      <th>RMSE</th>\n",
              "      <th>SMAPE</th>\n",
              "    </tr>\n",
              "  </thead>\n",
              "  <tbody>\n",
              "    <tr>\n",
              "      <th>4</th>\n",
              "      <td>Holt-Winters : Confidence Interval 0.95</td>\n",
              "      <td>1D</td>\n",
              "      <td>0.084379</td>\n",
              "      <td>8.397640</td>\n",
              "      <td>9.169889</td>\n",
              "      <td>0.091699</td>\n",
              "      <td>0.012156</td>\n",
              "      <td>0.110255</td>\n",
              "      <td>8.787175</td>\n",
              "    </tr>\n",
              "    <tr>\n",
              "      <th>13</th>\n",
              "      <td>Holt-Winters : Confidence Interval 0.95</td>\n",
              "      <td>1D</td>\n",
              "      <td>0.085711</td>\n",
              "      <td>8.567918</td>\n",
              "      <td>8.897393</td>\n",
              "      <td>0.088974</td>\n",
              "      <td>0.012099</td>\n",
              "      <td>0.109995</td>\n",
              "      <td>8.933436</td>\n",
              "    </tr>\n",
              "    <tr>\n",
              "      <th>22</th>\n",
              "      <td>AUTOARIMA   Confidence Interval 0.95</td>\n",
              "      <td>1D</td>\n",
              "      <td>0.082482</td>\n",
              "      <td>8.285304</td>\n",
              "      <td>8.219670</td>\n",
              "      <td>0.082197</td>\n",
              "      <td>0.011149</td>\n",
              "      <td>0.105591</td>\n",
              "      <td>8.586032</td>\n",
              "    </tr>\n",
              "    <tr>\n",
              "      <th>31</th>\n",
              "      <td>Prophet : Confidence Interval 0.95</td>\n",
              "      <td>1D</td>\n",
              "      <td>0.241928</td>\n",
              "      <td>24.243333</td>\n",
              "      <td>25.482332</td>\n",
              "      <td>0.254823</td>\n",
              "      <td>0.071909</td>\n",
              "      <td>0.268158</td>\n",
              "      <td>28.280358</td>\n",
              "    </tr>\n",
              "  </tbody>\n",
              "</table>\n",
              "</div>"
            ],
            "text/plain": [
              "                                    Estimator  ...      SMAPE\n",
              "4    Holt-Winters : Confidence Interval 0.95   ...   8.787175\n",
              "13   Holt-Winters : Confidence Interval 0.95   ...   8.933436\n",
              "22       AUTOARIMA   Confidence Interval 0.95  ...   8.586032\n",
              "31        Prophet : Confidence Interval 0.95   ...  28.280358\n",
              "\n",
              "[4 rows x 9 columns]"
            ]
          },
          "metadata": {
            "tags": []
          },
          "execution_count": 57
        }
      ]
    },
    {
      "cell_type": "code",
      "metadata": {
        "colab": {
          "base_uri": "https://localhost:8080/",
          "height": 167
        },
        "id": "-ugFzbpCg-l0",
        "outputId": "b12eee57-527b-44bb-c4db-e02d6ad590db"
      },
      "source": [
        "df_results_2D"
      ],
      "execution_count": null,
      "outputs": [
        {
          "output_type": "execute_result",
          "data": {
            "text/html": [
              "<div>\n",
              "<style scoped>\n",
              "    .dataframe tbody tr th:only-of-type {\n",
              "        vertical-align: middle;\n",
              "    }\n",
              "\n",
              "    .dataframe tbody tr th {\n",
              "        vertical-align: top;\n",
              "    }\n",
              "\n",
              "    .dataframe thead th {\n",
              "        text-align: right;\n",
              "    }\n",
              "</style>\n",
              "<table border=\"1\" class=\"dataframe\">\n",
              "  <thead>\n",
              "    <tr style=\"text-align: right;\">\n",
              "      <th></th>\n",
              "      <th>Estimator</th>\n",
              "      <th>Horizon_Prediction</th>\n",
              "      <th>MAE</th>\n",
              "      <th>MAPE</th>\n",
              "      <th>MDAPE</th>\n",
              "      <th>MEDAE</th>\n",
              "      <th>MSE</th>\n",
              "      <th>RMSE</th>\n",
              "      <th>SMAPE</th>\n",
              "    </tr>\n",
              "  </thead>\n",
              "  <tbody>\n",
              "    <tr>\n",
              "      <th>5</th>\n",
              "      <td>Holt-Winters : Confidence Interval 0.95</td>\n",
              "      <td>2D</td>\n",
              "      <td>0.104959</td>\n",
              "      <td>9.809048</td>\n",
              "      <td>9.169889</td>\n",
              "      <td>0.091699</td>\n",
              "      <td>0.020622</td>\n",
              "      <td>0.143603</td>\n",
              "      <td>10.561279</td>\n",
              "    </tr>\n",
              "    <tr>\n",
              "      <th>14</th>\n",
              "      <td>Holt-Winters : Confidence Interval 0.95</td>\n",
              "      <td>2D</td>\n",
              "      <td>0.108629</td>\n",
              "      <td>10.167215</td>\n",
              "      <td>9.514896</td>\n",
              "      <td>0.095149</td>\n",
              "      <td>0.021770</td>\n",
              "      <td>0.147547</td>\n",
              "      <td>10.963818</td>\n",
              "    </tr>\n",
              "    <tr>\n",
              "      <th>23</th>\n",
              "      <td>AUTOARIMA   Confidence Interval 0.95</td>\n",
              "      <td>2D</td>\n",
              "      <td>0.101338</td>\n",
              "      <td>9.517341</td>\n",
              "      <td>8.219670</td>\n",
              "      <td>0.082197</td>\n",
              "      <td>0.019025</td>\n",
              "      <td>0.137931</td>\n",
              "      <td>10.171148</td>\n",
              "    </tr>\n",
              "    <tr>\n",
              "      <th>32</th>\n",
              "      <td>Prophet : Confidence Interval 0.95</td>\n",
              "      <td>2D</td>\n",
              "      <td>0.334045</td>\n",
              "      <td>32.453130</td>\n",
              "      <td>32.388246</td>\n",
              "      <td>0.323882</td>\n",
              "      <td>0.135098</td>\n",
              "      <td>0.367557</td>\n",
              "      <td>39.932455</td>\n",
              "    </tr>\n",
              "  </tbody>\n",
              "</table>\n",
              "</div>"
            ],
            "text/plain": [
              "                                    Estimator  ...      SMAPE\n",
              "5    Holt-Winters : Confidence Interval 0.95   ...  10.561279\n",
              "14   Holt-Winters : Confidence Interval 0.95   ...  10.963818\n",
              "23       AUTOARIMA   Confidence Interval 0.95  ...  10.171148\n",
              "32        Prophet : Confidence Interval 0.95   ...  39.932455\n",
              "\n",
              "[4 rows x 9 columns]"
            ]
          },
          "metadata": {
            "tags": []
          },
          "execution_count": 58
        }
      ]
    },
    {
      "cell_type": "code",
      "metadata": {
        "colab": {
          "base_uri": "https://localhost:8080/",
          "height": 167
        },
        "id": "QGqExItBhEQk",
        "outputId": "244395ae-25a8-47c6-97eb-e5f07a0e170b"
      },
      "source": [
        "df_results_5D"
      ],
      "execution_count": null,
      "outputs": [
        {
          "output_type": "execute_result",
          "data": {
            "text/html": [
              "<div>\n",
              "<style scoped>\n",
              "    .dataframe tbody tr th:only-of-type {\n",
              "        vertical-align: middle;\n",
              "    }\n",
              "\n",
              "    .dataframe tbody tr th {\n",
              "        vertical-align: top;\n",
              "    }\n",
              "\n",
              "    .dataframe thead th {\n",
              "        text-align: right;\n",
              "    }\n",
              "</style>\n",
              "<table border=\"1\" class=\"dataframe\">\n",
              "  <thead>\n",
              "    <tr style=\"text-align: right;\">\n",
              "      <th></th>\n",
              "      <th>Estimator</th>\n",
              "      <th>Horizon_Prediction</th>\n",
              "      <th>MAE</th>\n",
              "      <th>MAPE</th>\n",
              "      <th>MDAPE</th>\n",
              "      <th>MEDAE</th>\n",
              "      <th>MSE</th>\n",
              "      <th>RMSE</th>\n",
              "      <th>SMAPE</th>\n",
              "    </tr>\n",
              "  </thead>\n",
              "  <tbody>\n",
              "    <tr>\n",
              "      <th>6</th>\n",
              "      <td>Holt-Winters : Confidence Interval 0.95</td>\n",
              "      <td>5D</td>\n",
              "      <td>0.125558</td>\n",
              "      <td>13.188961</td>\n",
              "      <td>13.537638</td>\n",
              "      <td>0.108301</td>\n",
              "      <td>0.023072</td>\n",
              "      <td>0.151895</td>\n",
              "      <td>13.358853</td>\n",
              "    </tr>\n",
              "    <tr>\n",
              "      <th>15</th>\n",
              "      <td>Holt-Winters : Confidence Interval 0.95</td>\n",
              "      <td>5D</td>\n",
              "      <td>0.122539</td>\n",
              "      <td>12.499019</td>\n",
              "      <td>10.158129</td>\n",
              "      <td>0.101453</td>\n",
              "      <td>0.023197</td>\n",
              "      <td>0.152307</td>\n",
              "      <td>13.009673</td>\n",
              "    </tr>\n",
              "    <tr>\n",
              "      <th>24</th>\n",
              "      <td>AUTOARIMA   Confidence Interval 0.95</td>\n",
              "      <td>5D</td>\n",
              "      <td>0.124550</td>\n",
              "      <td>13.212320</td>\n",
              "      <td>14.725412</td>\n",
              "      <td>0.117803</td>\n",
              "      <td>0.022389</td>\n",
              "      <td>0.149630</td>\n",
              "      <td>13.248050</td>\n",
              "    </tr>\n",
              "    <tr>\n",
              "      <th>33</th>\n",
              "      <td>Prophet : Confidence Interval 0.95</td>\n",
              "      <td>5D</td>\n",
              "      <td>0.397093</td>\n",
              "      <td>41.090888</td>\n",
              "      <td>42.381900</td>\n",
              "      <td>0.378417</td>\n",
              "      <td>0.181338</td>\n",
              "      <td>0.425838</td>\n",
              "      <td>53.053558</td>\n",
              "    </tr>\n",
              "  </tbody>\n",
              "</table>\n",
              "</div>"
            ],
            "text/plain": [
              "                                    Estimator  ...      SMAPE\n",
              "6    Holt-Winters : Confidence Interval 0.95   ...  13.358853\n",
              "15   Holt-Winters : Confidence Interval 0.95   ...  13.009673\n",
              "24       AUTOARIMA   Confidence Interval 0.95  ...  13.248050\n",
              "33        Prophet : Confidence Interval 0.95   ...  53.053558\n",
              "\n",
              "[4 rows x 9 columns]"
            ]
          },
          "metadata": {
            "tags": []
          },
          "execution_count": 59
        }
      ]
    },
    {
      "cell_type": "code",
      "metadata": {
        "colab": {
          "base_uri": "https://localhost:8080/",
          "height": 167
        },
        "id": "tAsr1LaLhH6z",
        "outputId": "2d645d5e-4571-429b-f719-4d76a6b280b0"
      },
      "source": [
        "df_results_7D"
      ],
      "execution_count": null,
      "outputs": [
        {
          "output_type": "execute_result",
          "data": {
            "text/html": [
              "<div>\n",
              "<style scoped>\n",
              "    .dataframe tbody tr th:only-of-type {\n",
              "        vertical-align: middle;\n",
              "    }\n",
              "\n",
              "    .dataframe tbody tr th {\n",
              "        vertical-align: top;\n",
              "    }\n",
              "\n",
              "    .dataframe thead th {\n",
              "        text-align: right;\n",
              "    }\n",
              "</style>\n",
              "<table border=\"1\" class=\"dataframe\">\n",
              "  <thead>\n",
              "    <tr style=\"text-align: right;\">\n",
              "      <th></th>\n",
              "      <th>Estimator</th>\n",
              "      <th>Horizon_Prediction</th>\n",
              "      <th>MAE</th>\n",
              "      <th>MAPE</th>\n",
              "      <th>MDAPE</th>\n",
              "      <th>MEDAE</th>\n",
              "      <th>MSE</th>\n",
              "      <th>RMSE</th>\n",
              "      <th>SMAPE</th>\n",
              "    </tr>\n",
              "  </thead>\n",
              "  <tbody>\n",
              "    <tr>\n",
              "      <th>7</th>\n",
              "      <td>Holt-Winters : Confidence Interval 0.95</td>\n",
              "      <td>7D</td>\n",
              "      <td>0.115571</td>\n",
              "      <td>12.372154</td>\n",
              "      <td>13.537638</td>\n",
              "      <td>0.108301</td>\n",
              "      <td>0.020658</td>\n",
              "      <td>0.143730</td>\n",
              "      <td>12.417276</td>\n",
              "    </tr>\n",
              "    <tr>\n",
              "      <th>16</th>\n",
              "      <td>Holt-Winters : Confidence Interval 0.95</td>\n",
              "      <td>7D</td>\n",
              "      <td>0.111844</td>\n",
              "      <td>11.512957</td>\n",
              "      <td>9.095506</td>\n",
              "      <td>0.084793</td>\n",
              "      <td>0.020837</td>\n",
              "      <td>0.144349</td>\n",
              "      <td>11.995640</td>\n",
              "    </tr>\n",
              "    <tr>\n",
              "      <th>25</th>\n",
              "      <td>AUTOARIMA   Confidence Interval 0.95</td>\n",
              "      <td>7D</td>\n",
              "      <td>0.116866</td>\n",
              "      <td>12.644179</td>\n",
              "      <td>14.725412</td>\n",
              "      <td>0.117803</td>\n",
              "      <td>0.020406</td>\n",
              "      <td>0.142849</td>\n",
              "      <td>12.559702</td>\n",
              "    </tr>\n",
              "    <tr>\n",
              "      <th>34</th>\n",
              "      <td>Prophet : Confidence Interval 0.95</td>\n",
              "      <td>7D</td>\n",
              "      <td>0.402931</td>\n",
              "      <td>42.849872</td>\n",
              "      <td>44.584966</td>\n",
              "      <td>0.382848</td>\n",
              "      <td>0.182492</td>\n",
              "      <td>0.427191</td>\n",
              "      <td>55.659389</td>\n",
              "    </tr>\n",
              "  </tbody>\n",
              "</table>\n",
              "</div>"
            ],
            "text/plain": [
              "                                    Estimator  ...      SMAPE\n",
              "7    Holt-Winters : Confidence Interval 0.95   ...  12.417276\n",
              "16   Holt-Winters : Confidence Interval 0.95   ...  11.995640\n",
              "25       AUTOARIMA   Confidence Interval 0.95  ...  12.559702\n",
              "34        Prophet : Confidence Interval 0.95   ...  55.659389\n",
              "\n",
              "[4 rows x 9 columns]"
            ]
          },
          "metadata": {
            "tags": []
          },
          "execution_count": 60
        }
      ]
    },
    {
      "cell_type": "code",
      "metadata": {
        "colab": {
          "base_uri": "https://localhost:8080/",
          "height": 167
        },
        "id": "TNrHlGLeOy-x",
        "outputId": "b2accbc5-da62-469f-e599-a8164b62142a"
      },
      "source": [
        "df_results_15D"
      ],
      "execution_count": null,
      "outputs": [
        {
          "output_type": "execute_result",
          "data": {
            "text/html": [
              "<div>\n",
              "<style scoped>\n",
              "    .dataframe tbody tr th:only-of-type {\n",
              "        vertical-align: middle;\n",
              "    }\n",
              "\n",
              "    .dataframe tbody tr th {\n",
              "        vertical-align: top;\n",
              "    }\n",
              "\n",
              "    .dataframe thead th {\n",
              "        text-align: right;\n",
              "    }\n",
              "</style>\n",
              "<table border=\"1\" class=\"dataframe\">\n",
              "  <thead>\n",
              "    <tr style=\"text-align: right;\">\n",
              "      <th></th>\n",
              "      <th>Estimator</th>\n",
              "      <th>Horizon_Prediction</th>\n",
              "      <th>MAE</th>\n",
              "      <th>MAPE</th>\n",
              "      <th>MDAPE</th>\n",
              "      <th>MEDAE</th>\n",
              "      <th>MSE</th>\n",
              "      <th>RMSE</th>\n",
              "      <th>SMAPE</th>\n",
              "    </tr>\n",
              "  </thead>\n",
              "  <tbody>\n",
              "    <tr>\n",
              "      <th>8</th>\n",
              "      <td>Holt-Winters : Confidence Interval 0.95</td>\n",
              "      <td>15D</td>\n",
              "      <td>0.093212</td>\n",
              "      <td>9.887179</td>\n",
              "      <td>9.169889</td>\n",
              "      <td>0.091699</td>\n",
              "      <td>0.014891</td>\n",
              "      <td>0.122030</td>\n",
              "      <td>9.989042</td>\n",
              "    </tr>\n",
              "    <tr>\n",
              "      <th>17</th>\n",
              "      <td>Holt-Winters : Confidence Interval 0.95</td>\n",
              "      <td>15D</td>\n",
              "      <td>0.133285</td>\n",
              "      <td>13.674087</td>\n",
              "      <td>11.726812</td>\n",
              "      <td>0.111724</td>\n",
              "      <td>0.026304</td>\n",
              "      <td>0.162186</td>\n",
              "      <td>14.804596</td>\n",
              "    </tr>\n",
              "    <tr>\n",
              "      <th>26</th>\n",
              "      <td>AUTOARIMA   Confidence Interval 0.95</td>\n",
              "      <td>15D</td>\n",
              "      <td>0.094671</td>\n",
              "      <td>10.150014</td>\n",
              "      <td>8.219670</td>\n",
              "      <td>0.082197</td>\n",
              "      <td>0.014569</td>\n",
              "      <td>0.120703</td>\n",
              "      <td>10.148950</td>\n",
              "    </tr>\n",
              "    <tr>\n",
              "      <th>35</th>\n",
              "      <td>Prophet : Confidence Interval 0.95</td>\n",
              "      <td>15D</td>\n",
              "      <td>0.544083</td>\n",
              "      <td>58.097288</td>\n",
              "      <td>56.568551</td>\n",
              "      <td>0.548462</td>\n",
              "      <td>0.331389</td>\n",
              "      <td>0.575664</td>\n",
              "      <td>86.223182</td>\n",
              "    </tr>\n",
              "  </tbody>\n",
              "</table>\n",
              "</div>"
            ],
            "text/plain": [
              "                                    Estimator  ...      SMAPE\n",
              "8    Holt-Winters : Confidence Interval 0.95   ...   9.989042\n",
              "17   Holt-Winters : Confidence Interval 0.95   ...  14.804596\n",
              "26       AUTOARIMA   Confidence Interval 0.95  ...  10.148950\n",
              "35        Prophet : Confidence Interval 0.95   ...  86.223182\n",
              "\n",
              "[4 rows x 9 columns]"
            ]
          },
          "metadata": {
            "tags": []
          },
          "execution_count": 61
        }
      ]
    },
    {
      "cell_type": "code",
      "metadata": {
        "colab": {
          "base_uri": "https://localhost:8080/",
          "height": 458
        },
        "id": "4I5CJPW0HxIe",
        "outputId": "87a2d645-abd6-4f2e-e972-99c0a8f0f897"
      },
      "source": [
        "        future = prophet_predictor.make_future_dataframe(periods=15)\n",
        "        forecast = prophet_predictor.predict(future)\n",
        "        print('Ajuste Prophet, intervalo de confianza del 95%')\n",
        "        plot = prophet_predictor.plot(forecast)\n",
        "        "
      ],
      "execution_count": null,
      "outputs": [
        {
          "output_type": "stream",
          "text": [
            "Ajuste Prophet, intervalo de confianza del 95%\n"
          ],
          "name": "stdout"
        },
        {
          "output_type": "display_data",
          "data": {
            "image/png": "[encoded data removed]",
            "text/plain": [
              "<Figure size 720x432 with 1 Axes>"
            ]
          },
          "metadata": {
            "tags": []
          }
        }
      ]
    },
    {
      "cell_type": "code",
      "metadata": {
        "colab": {
          "base_uri": "https://localhost:8080/",
          "height": 47
        },
        "id": "J6CIIff12-cP",
        "outputId": "154b1d99-d101-4d36-9ff9-79f4fcd2c838"
      },
      "source": [
        "df_Arima"
      ],
      "execution_count": null,
      "outputs": [
        {
          "output_type": "execute_result",
          "data": {
            "text/html": [
              "<div>\n",
              "<style scoped>\n",
              "    .dataframe tbody tr th:only-of-type {\n",
              "        vertical-align: middle;\n",
              "    }\n",
              "\n",
              "    .dataframe tbody tr th {\n",
              "        vertical-align: top;\n",
              "    }\n",
              "\n",
              "    .dataframe thead th {\n",
              "        text-align: right;\n",
              "    }\n",
              "</style>\n",
              "<table border=\"1\" class=\"dataframe\">\n",
              "  <thead>\n",
              "    <tr style=\"text-align: right;\">\n",
              "      <th></th>\n",
              "      <th>Estimator</th>\n",
              "      <th>Horizon_Prediction</th>\n",
              "      <th>MAE</th>\n",
              "      <th>MAPE</th>\n",
              "      <th>MDAPE</th>\n",
              "      <th>MEDAE</th>\n",
              "      <th>MSE</th>\n",
              "      <th>RMSE</th>\n",
              "      <th>SMAPE</th>\n",
              "    </tr>\n",
              "  </thead>\n",
              "  <tbody>\n",
              "  </tbody>\n",
              "</table>\n",
              "</div>"
            ],
            "text/plain": [
              "Empty DataFrame\n",
              "Columns: [Estimator, Horizon_Prediction, MAE, MAPE, MDAPE, MEDAE, MSE, RMSE, SMAPE]\n",
              "Index: []"
            ]
          },
          "metadata": {
            "tags": []
          },
          "execution_count": 73
        }
      ]
    },
    {
      "cell_type": "code",
      "metadata": {
        "id": "UwY0wuRGTS0a"
      },
      "source": [
        "forecast_steps_iter=forecast_steps_dict[\"15D\"]"
      ],
      "execution_count": null,
      "outputs": []
    },
    {
      "cell_type": "code",
      "metadata": {
        "id": "UaOnReIzRLjt"
      },
      "source": [
        "y_arima = model_auto.predict(forecast_steps_iter,alpha=0.05)\n",
        "       \n",
        "future = prophet_predictor.make_future_dataframe(periods=forecast_steps_iter,freq='15min')\n",
        "forecast=prophet_predictor.predict(future)\n",
        "yhat,y_test = marshall_results_Prophet(forecast,test_turbidity)\n",
        "\n",
        "y_ses = fitted_SES.forecast(forecast_steps_iter)\n",
        "\n",
        "y_es=  fitted_model.forecast(forecast_steps_iter)"
      ],
      "execution_count": null,
      "outputs": []
    },
    {
      "cell_type": "code",
      "metadata": {
        "id": "kKD1tW2yRpw4"
      },
      "source": [
        "plotting_results = pd.DataFrame(test_turbidity['116507_63680'][0:forecast_steps_iter]).copy()"
      ],
      "execution_count": null,
      "outputs": []
    },
    {
      "cell_type": "code",
      "metadata": {
        "id": "KUIgcWGMR6VY"
      },
      "source": [
        "plotting_results.columns=['Test']\n",
        "plotting_results['Autoarima'] = y_arima\n",
        "plotting_results['Prophet'] = yhat[1:]\n",
        "plotting_results['SES']=y_ses\n",
        "plotting_results['ES']=y_es"
      ],
      "execution_count": null,
      "outputs": []
    },
    {
      "cell_type": "code",
      "metadata": {
        "colab": {
          "base_uri": "https://localhost:8080/",
          "height": 646
        },
        "id": "wTM6tUYUSAx7",
        "outputId": "0616b86c-b62e-48ee-b311-fc49032cf794"
      },
      "source": [
        "plotting_results['Test'].plot(legend=True,label='Test',figsize=(20,10), set)\n",
        "plotting_results['Autoarima'].plot(legend=True,label='AutoArima',figsize=(20,10))\n",
        "plotting_results['Prophet'].plot(legend=True,label='Prophet',figsize=(20,10))\n",
        "plotting_results['SES'].plot(legend=True,label='Holt Winters: SES',figsize=(20,10))\n",
        "plotting_results['ES'].plot(legend=True,label='Holt Winters: ES',figsize=(20,10))"
      ],
      "execution_count": null,
      "outputs": [
        {
          "output_type": "execute_result",
          "data": {
            "text/plain": [
              "<matplotlib.axes._subplots.AxesSubplot at 0x7fbab12fe290>"
            ]
          },
          "metadata": {
            "tags": []
          },
          "execution_count": 222
        },
        {
          "output_type": "display_data",
          "data": {
            "image/png": "[encoded data removed]",
            "text/plain": [
              "<Figure size 1440x720 with 1 Axes>"
            ]
          },
          "metadata": {
            "tags": [],
            "needs_background": "light"
          }
        }
      ]
    },
    {
      "cell_type": "markdown",
      "metadata": {
        "id": "UTdrvsuVHF5Q"
      },
      "source": [
        "Esta claro que tampoco el intervalo de entrenamiento y test es una distribución normal..."
      ]
    },
    {
      "cell_type": "code",
      "metadata": {
        "colab": {
          "base_uri": "https://localhost:8080/",
          "height": 282
        },
        "id": "lJL5zpvncyoc",
        "outputId": "28412bee-f870-40e8-e25e-5530420f35f5"
      },
      "source": [
        "test_turbidity['116507_63680'].plot(kind='kde')"
      ],
      "execution_count": null,
      "outputs": [
        {
          "output_type": "execute_result",
          "data": {
            "text/plain": [
              "<matplotlib.axes._subplots.AxesSubplot at 0x7fbab0e937d0>"
            ]
          },
          "metadata": {
            "tags": []
          },
          "execution_count": 226
        },
        {
          "output_type": "display_data",
          "data": {
            "image/png": "[encoded data removed]",
            "text/plain": [
              "<Figure size 432x288 with 1 Axes>"
            ]
          },
          "metadata": {
            "tags": [],
            "needs_background": "light"
          }
        }
      ]
    },
    {
      "cell_type": "code",
      "metadata": {
        "colab": {
          "base_uri": "https://localhost:8080/",
          "height": 282
        },
        "id": "GAsgIrijeTCF",
        "outputId": "0d2f21be-4383-41da-b8de-f6876c440aff"
      },
      "source": [
        "test_turbidity['116507_63680'].plot(kind='hist')"
      ],
      "execution_count": null,
      "outputs": [
        {
          "output_type": "execute_result",
          "data": {
            "text/plain": [
              "<matplotlib.axes._subplots.AxesSubplot at 0x7fbab0e6f8d0>"
            ]
          },
          "metadata": {
            "tags": []
          },
          "execution_count": 227
        },
        {
          "output_type": "display_data",
          "data": {
            "image/png": "[encoded data removed]",
            "text/plain": [
              "<Figure size 432x288 with 1 Axes>"
            ]
          },
          "metadata": {
            "tags": [],
            "needs_background": "light"
          }
        }
      ]
    }
  ]
}