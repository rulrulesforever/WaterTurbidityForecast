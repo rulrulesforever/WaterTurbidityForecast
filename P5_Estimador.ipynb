{
  "nbformat": 4,
  "nbformat_minor": 0,
  "metadata": {
    "colab": {
      "name": "P5_Estimador.ipynb",
      "provenance": [],
      "collapsed_sections": []
    },
    "kernelspec": {
      "name": "python3",
      "display_name": "Python 3"
    },
    "language_info": {
      "name": "python"
    },
    "accelerator": "GPU"
  },
  "cells": [
    {
      "cell_type": "markdown",
      "metadata": {
        "id": "2llPQENfJITZ"
      },
      "source": [
        "# P5.5  Construcción Estimador de Turbidez"
      ]
    },
    {
      "cell_type": "code",
      "metadata": {
        "id": "UMqIuuvx3-f4",
        "colab": {
          "base_uri": "https://localhost:8080/"
        },
        "outputId": "79e369d3-8cee-4d8d-dd03-e1e340d59925"
      },
      "source": [
        "import pandas as pd\n",
        "import math\n",
        "import numpy as np\n",
        "import random\n",
        "import scipy.stats as stats\n",
        "import matplotlib.pyplot as plt\n",
        "import seaborn as sns\n",
        "import statsmodels.api as sm\n",
        "import warnings\n",
        "\n",
        "path='turbitidy_cycle17_21.csv'\n"
      ],
      "execution_count": null,
      "outputs": [
        {
          "output_type": "stream",
          "text": [
            "/usr/local/lib/python3.7/dist-packages/statsmodels/tools/_testing.py:19: FutureWarning: pandas.util.testing is deprecated. Use the functions in the public API at pandas.testing instead.\n",
            "  import pandas.util.testing as tm\n"
          ],
          "name": "stderr"
        }
      ]
    },
    {
      "cell_type": "markdown",
      "metadata": {
        "id": "MbNUw6QtUhz4"
      },
      "source": [
        "Definición de Métricas utilizadas"
      ]
    },
    {
      "cell_type": "code",
      "metadata": {
        "id": "F0KEwynGzXfD"
      },
      "source": [
        "def calculate_error(y_pred,y_test, print_message=True):\n",
        "#Imprime los resultados del \n",
        "#y_pred: tipo 1D array o asimilado, valores prededecidos\n",
        "#y_test: tipo 1D array o asimilado, valores reaales\n",
        "#print_message :imprime los errores calculado por pantalla.\n",
        "\n",
        "\n",
        "  # # Mean Absolute Error (MAE)\n",
        "  MAE = np.mean(abs(y_pred - y_test))\n",
        "  \n",
        "  # Median Absolute Error (MedAE)\n",
        "  MEDAE = np.median(abs(y_pred - y_test))\n",
        "\n",
        "\n",
        "  # Mean Squared Error (MSE)\n",
        "  MSE = np.square(np.subtract(y_pred, y_test)).mean()\n",
        " \n",
        "\n",
        "  # Root Mean Squarred Error (RMSE) \n",
        "  RMSE = np.sqrt(np.mean(np.square(y_pred - y_test)))\n",
        "\n",
        "  # Mean Absolute Percentage Error (MAPE)\n",
        "  MAPE = np.mean((np.abs(np.subtract(y_test, y_pred)/ y_test))) * 100\n",
        "  \n",
        "\n",
        "  # Median Absolute Percentage Error (MDAPE)\n",
        "  MDAPE = np.median((np.abs(np.subtract(y_test, y_pred)/ y_test))) * 100\n",
        "\n",
        "  # Symmetric Median Absolute Percentage Error (MDAPE) \n",
        "  SMAPE = 100/len(y_test) * np.sum(2 * np.abs(y_pred -y_test) / (np.abs(y_test) + np.abs(y_pred)))\n",
        "\n",
        "  if (print_message) :\n",
        "      print('Mean Absolute Error (MAE): ' + str(np.round(MAE, 2)))\n",
        "      print('Median Absolute Error (MedAE): ' + str(np.round(MEDAE, 2)))\n",
        "      print('Mean Squared Error (MSE): ' + str(np.round(MSE, 2)))\n",
        "      print('Root Mean Squared Error (RMSE): ' + str(np.round(RMSE, 2)))\n",
        "      print('Mean Absolute Percentage Error (MAPE): ' + str(np.round(MAPE, 2)) + ' %')\n",
        "      print('Median Absolute Percentage Error (MDAPE): ' + str(np.round(MDAPE, 2)) + ' %')\n",
        "      print('Symmetric Median Absolute Percentage Error (SMAPE): ' + str(np.round(SMAPE, 2)) + ' %')\n",
        "\n",
        "  return MAE,MEDAE,MSE,RMSE,MAPE,MDAPE,SMAPE"
      ],
      "execution_count": null,
      "outputs": []
    },
    {
      "cell_type": "code",
      "metadata": {
        "id": "wgGOwbUtPPEm"
      },
      "source": [
        "df_turbidity_source = pd.read_csv(path, delimiter=',',infer_datetime_format=True, index_col='datetime',parse_dates=True)\n",
        "df_turbidity_source['116507_63680']=pd.to_numeric(df_turbidity_source['116507_63680'])\n"
      ],
      "execution_count": null,
      "outputs": []
    },
    {
      "cell_type": "code",
      "metadata": {
        "id": "QQ1suc06C1z_"
      },
      "source": [
        "df_turbidity= df_turbidity_source.copy()"
      ],
      "execution_count": null,
      "outputs": []
    },
    {
      "cell_type": "markdown",
      "metadata": {
        "id": "WcbuL0cFFigP"
      },
      "source": [
        "Comprobar siempre cómo han sido interpretados los campos, especialmente los numéricos y las fechas, que no aparezcan como tipos cadena."
      ]
    },
    {
      "cell_type": "code",
      "metadata": {
        "colab": {
          "base_uri": "https://localhost:8080/"
        },
        "id": "PA7w-gdI8ttD",
        "outputId": "8f950f3c-807e-4bb0-83bb-c4d7a41a1530"
      },
      "source": [
        "df_turbidity_source.dtypes"
      ],
      "execution_count": null,
      "outputs": [
        {
          "output_type": "execute_result",
          "data": {
            "text/plain": [
              "agency_cd           object\n",
              "site_no              int64\n",
              "tz_cd               object\n",
              "116507_63680       float64\n",
              "116507_63680_cd     object\n",
              "dtype: object"
            ]
          },
          "metadata": {
            "tags": []
          },
          "execution_count": 9
        }
      ]
    },
    {
      "cell_type": "markdown",
      "metadata": {
        "id": "3yKpBGTs6TYM"
      },
      "source": [
        "Comprobación de Indices: "
      ]
    },
    {
      "cell_type": "markdown",
      "metadata": {
        "id": "V8oQMGE3JrqC"
      },
      "source": [
        "Mostramos el Gráfico"
      ]
    },
    {
      "cell_type": "code",
      "metadata": {
        "colab": {
          "base_uri": "https://localhost:8080/",
          "height": 596
        },
        "id": "8ysdt_58Coue",
        "outputId": "7879554b-21b6-4464-b1ac-973b6415dfbf"
      },
      "source": [
        "df_turbidity[['116507_63680']].plot(title='Turbidity (FNU)',figsize=(16,9))"
      ],
      "execution_count": null,
      "outputs": [
        {
          "output_type": "execute_result",
          "data": {
            "text/plain": [
              "<matplotlib.axes._subplots.AxesSubplot at 0x7f80273c5cd0>"
            ]
          },
          "metadata": {
            "tags": []
          },
          "execution_count": 10
        },
        {
          "output_type": "display_data",
          "data": {
            "image/png": "[encoded data removed]",
            "text/plain": [
              "<Figure size 1152x648 with 1 Axes>"
            ]
          },
          "metadata": {
            "tags": [],
            "needs_background": "light"
          }
        }
      ]
    },
    {
      "cell_type": "markdown",
      "metadata": {
        "id": "zLQwXRVWLnyS"
      },
      "source": [
        "## Datasets Para Entrenamiento"
      ]
    },
    {
      "cell_type": "markdown",
      "metadata": {
        "id": "5E2VAehP_tRO"
      },
      "source": [
        "Ees importante igualar el cjto de entrenamiento / test a a las proporciones 80/20%, si bien el mantenimiento de las geometrías representativas es también importante.\n"
      ]
    },
    {
      "cell_type": "code",
      "metadata": {
        "colab": {
          "base_uri": "https://localhost:8080/",
          "height": 613
        },
        "id": "l7skG_HIKN-K",
        "outputId": "26e4b412-d760-4ac9-931a-400ee4381587"
      },
      "source": [
        "# Split into train and test set\n",
        "\n",
        "UpperBound = '2020-08-01 0:00:00'\n",
        "LowerBound = '2020-01-01 0:00:00'\n",
        "TestBound = '2020-07-01 0:00:00'\n",
        "\n",
        "\n",
        "\n",
        "df_range = pd.DataFrame()\n",
        "train_turbidity= pd.DataFrame()\n",
        "test_turbidity= pd.DataFrame()\n",
        "\n",
        "df_range['116507_63680']=df_turbidity['116507_63680'][LowerBound:UpperBound]\n",
        "\n",
        "train_turbidity['116507_63680']=df_range['116507_63680'][:TestBound]\n",
        "test_turbidity['116507_63680']=df_range['116507_63680'][TestBound:]\n",
        "\n",
        "train_turbidity['116507_63680'].plot(legend=True,label='TRAIN',figsize=(16,9))\n",
        "test_turbidity['116507_63680'].plot(legend=True,label='TEST',figsize=(16,9))\n",
        "\n",
        "train_turbidity.index.freq=\"15T\"\n",
        "test_turbidity.index.freq=\"15T\"\n",
        "\n",
        "plt.title('Series de Train y Test')\n",
        "\n",
        "print(\"Cjto Entrenamiento % :\",(train_turbidity.shape[0]/df_range.shape[0])*100)\n",
        "print(\"Cjto Test % :\",(test_turbidity.shape[0]/df_range.shape[0])*100)"
      ],
      "execution_count": null,
      "outputs": [
        {
          "output_type": "stream",
          "text": [
            "Cjto Entrenamiento % : 85.44672111105677\n",
            "Cjto Test % : 14.55816910362365\n"
          ],
          "name": "stdout"
        },
        {
          "output_type": "display_data",
          "data": {
            "image/png": "[encoded data removed]",
            "text/plain": [
              "<Figure size 1152x648 with 1 Axes>"
            ]
          },
          "metadata": {
            "tags": [],
            "needs_background": "light"
          }
        }
      ]
    },
    {
      "cell_type": "markdown",
      "metadata": {
        "id": "eE7X5OYfCKXZ"
      },
      "source": [
        "## Definiciones Generales de Modelos"
      ]
    },
    {
      "cell_type": "markdown",
      "metadata": {
        "id": "ZJnX_wtwU9sq"
      },
      "source": [
        "Horizontes de Predicción: El dataset toma una muesta cada 15 minutos, por lo tanto 1H = 4 muestras, 3 H = 3*4=12 muestras ..."
      ]
    },
    {
      "cell_type": "code",
      "metadata": {
        "id": "sOt89_1jhDgX"
      },
      "source": [
        "forecast_steps_dict = {\n",
        "  \"1H\": 4,\n",
        "  \"3H\": 12,\n",
        "  \"6H\": 24,\n",
        "  \"12H\": 48,\n",
        "  \"1D\": 96,\n",
        "  \"2D\": 192,\n",
        "  \"5D\": 480,\n",
        "  \"7D\": 672,\n",
        "  \"15D\": 1440\n",
        "}"
      ],
      "execution_count": null,
      "outputs": []
    },
    {
      "cell_type": "code",
      "metadata": {
        "id": "_ampBPlysfFY"
      },
      "source": [
        "    from keras.models import Sequential\n",
        "    from keras.layers import Dense,Flatten\n",
        "    from keras.layers.convolutional import Conv1D,MaxPooling1D\n",
        "    from keras.optimizers import Adam\n",
        "    from keras.losses import Huber\n",
        "\n",
        "    import keras.callbacks"
      ],
      "execution_count": null,
      "outputs": []
    },
    {
      "cell_type": "code",
      "metadata": {
        "id": "4m_t9YmkCnVZ"
      },
      "source": [
        "from keras.layers import LSTM, Embedding, TimeDistributed,Bidirectional, Dense, InputLayer,Activation"
      ],
      "execution_count": null,
      "outputs": []
    },
    {
      "cell_type": "code",
      "metadata": {
        "id": "BzlcHdhdslFC"
      },
      "source": [
        "from keras.callbacks import ModelCheckpoint, TensorBoard, Callback, EarlyStopping\n",
        "early_stop = EarlyStopping(monitor = \"loss\", mode = \"min\", patience = 3)"
      ],
      "execution_count": null,
      "outputs": []
    },
    {
      "cell_type": "code",
      "metadata": {
        "id": "63Q8ebKUzh_7"
      },
      "source": [
        "def split_sequences(sequences, n_steps):\n",
        "  from numpy import array\n",
        "  \n",
        "  X, y = list(), list()\n",
        "  for i in range(len(sequences)):\n",
        "    # find the end of this pattern\n",
        "    end_ix = i + n_steps\n",
        "    # check if we are beyond the dataset\n",
        "    if end_ix > len(sequences)-1:\n",
        "      break\n",
        "\n",
        "    # gather input and output parts of the pattern\n",
        "        \n",
        "    seq_x, seq_y = sequences[i:end_ix], sequences[end_ix]\n",
        "    X.append(seq_x)\n",
        "    y.append(seq_y)\n",
        "  return array(X), array(y)\n"
      ],
      "execution_count": null,
      "outputs": []
    },
    {
      "cell_type": "code",
      "metadata": {
        "id": "C_DFr_0GjbGa"
      },
      "source": [
        "#Source: https://setscholars.net/time-series-forecasting-in-python-using-deep-learning-cnn-model-with-bj-sales-dataset-data-science/\n",
        "   \n",
        "   \n",
        "# choose a number of time steps\n",
        "n_steps = forecast_steps_dict[\"7D\"]\n",
        "# convert into input/output\n",
        "X_train, y_train = split_sequences(train_turbidity['116507_63680'], n_steps)\n",
        "X_test, y_test = split_sequences(test_turbidity['116507_63680'], n_steps)\n",
        "\n",
        "# reshape from [samples, timesteps] into [samples, timesteps, features]\n",
        "n_features = 1\n",
        "X_train = X_train.reshape((X_train.shape[0], X_train.shape[1], n_features))\n",
        "X_test= X_test.reshape((X_test.shape[0], X_test.shape[1], n_features))\n",
        "\n"
      ],
      "execution_count": null,
      "outputs": []
    },
    {
      "cell_type": "code",
      "metadata": {
        "colab": {
          "base_uri": "https://localhost:8080/"
        },
        "id": "AAXwDxpn1OQt",
        "outputId": "424a2f4d-7b7b-4c68-84bb-df73d5658b3c"
      },
      "source": [
        "train_turbidity['116507_63680'].shape"
      ],
      "execution_count": null,
      "outputs": [
        {
          "output_type": "execute_result",
          "data": {
            "text/plain": [
              "(17473,)"
            ]
          },
          "metadata": {
            "tags": []
          },
          "execution_count": 15
        }
      ]
    },
    {
      "cell_type": "code",
      "metadata": {
        "colab": {
          "base_uri": "https://localhost:8080/"
        },
        "id": "-eDE-ukPt_j7",
        "outputId": "4abcae16-7e7d-4641-b1e4-a245354a133f"
      },
      "source": [
        "test_turbidity['116507_63680'].shape"
      ],
      "execution_count": null,
      "outputs": [
        {
          "output_type": "execute_result",
          "data": {
            "text/plain": [
              "(2977,)"
            ]
          },
          "metadata": {
            "tags": []
          },
          "execution_count": 16
        }
      ]
    },
    {
      "cell_type": "code",
      "metadata": {
        "colab": {
          "base_uri": "https://localhost:8080/"
        },
        "id": "XZsy6r20s5y0",
        "outputId": "efb597a4-0185-49a2-fa9e-aeac8faff32a"
      },
      "source": [
        "X_train.shape, y_train.shape  "
      ],
      "execution_count": null,
      "outputs": [
        {
          "output_type": "execute_result",
          "data": {
            "text/plain": [
              "((16801, 672, 1), (16801,))"
            ]
          },
          "metadata": {
            "tags": []
          },
          "execution_count": 17
        }
      ]
    },
    {
      "cell_type": "markdown",
      "metadata": {
        "id": "LP7rap4JoLea"
      },
      "source": [
        "## Modelo Convolutional MLP : \n",
        "Nótese que las capas convolucionales CNN han sido cambiadas por capas más modernas Conv1D"
      ]
    },
    {
      "cell_type": "code",
      "metadata": {
        "id": "fxst7GpEdkTs"
      },
      "source": [
        "model_cnn = Sequential(name=\"Convolutional_MLP\")"
      ],
      "execution_count": null,
      "outputs": []
    },
    {
      "cell_type": "code",
      "metadata": {
        "id": "xDwTb9F6jz3c"
      },
      "source": [
        "# define model - using CNN model\n",
        "\n",
        "model_cnn.add(Conv1D(filters=256, kernel_size=2, activation='relu', input_shape=(n_steps, n_features)))\n",
        "model_cnn.add(MaxPooling1D(pool_size=2))\n",
        "model_cnn.add(Flatten())\n",
        "model_cnn.add(Dense(100, activation='relu'))    \n",
        "model_cnn.add(Dense(1))\n",
        "model_cnn.compile(optimizer='adam', loss='mse')\n",
        "\n",
        "model_cnn.summary()"
      ],
      "execution_count": null,
      "outputs": []
    },
    {
      "cell_type": "code",
      "metadata": {
        "id": "3bhrFeUUsp78"
      },
      "source": [
        "history = model_cnn.fit(X_train, y_train, epochs=5,validation_data=(X_test, y_test), callbacks = [early_stop])\n"
      ],
      "execution_count": null,
      "outputs": []
    },
    {
      "cell_type": "code",
      "metadata": {
        "id": "VPNXZ9z_w9dU"
      },
      "source": [
        "yhat = model_cnn.predict(X_test, verbose=1)\n",
        "y_pred = yhat.squeeze().copy()\n",
        "df_pred = pd.DataFrame.from_records(yhat, columns = ['predicted'])\n",
        "df_pred = df_pred.reset_index(drop=True)\n",
        "df_pred = df_pred['predicted'][0:n_steps]\n",
        "df_pred.columns = ['predicted']  \n",
        "\n",
        "df_actual = test_turbidity['116507_63680'][0:n_steps]\n",
        "df_actual.columns =['actual'] \n",
        "\n",
        "df_actual = df_actual.reset_index(drop=True)\n",
        "\n",
        "y_pred = df_pred.values\n",
        "y_actual = df_actual.values\n",
        "\n",
        "calculate_error(y_pred, y_actual)"
      ],
      "execution_count": null,
      "outputs": []
    },
    {
      "cell_type": "markdown",
      "metadata": {
        "id": "iYYOk0X0YMin"
      },
      "source": [
        "## CNN + LSTM\n"
      ]
    },
    {
      "cell_type": "code",
      "metadata": {
        "id": "aTvwXdG-YQ-b"
      },
      "source": [
        "model_cnn_lstm = Sequential(name = \"CNN_LSTM\")"
      ],
      "execution_count": null,
      "outputs": []
    },
    {
      "cell_type": "code",
      "metadata": {
        "colab": {
          "base_uri": "https://localhost:8080/"
        },
        "id": "pOWYJmiHq56h",
        "outputId": "5b1dbd1e-92cc-4ada-928b-9a9876ff451c"
      },
      "source": [
        "model_cnn_lstm.add(Conv1D(filters=512, kernel_size=2, activation='relu',input_shape=(n_steps, n_features)))\n",
        "model_cnn_lstm.add(LSTM(100, return_sequences=True))\n",
        "model_cnn_lstm.add(LSTM(25, return_sequences=True))\n",
        "model_cnn_lstm.add(TimeDistributed(Dense(1, activation= 'relu' )))\n",
        "model_cnn_lstm.compile(loss=Huber() , optimizer='adam' , metrics=['acc'])\n",
        "model_cnn_lstm.summary()"
      ],
      "execution_count": null,
      "outputs": [
        {
          "output_type": "stream",
          "text": [
            "Model: \"CNN_LSTM\"\n",
            "_________________________________________________________________\n",
            "Layer (type)                 Output Shape              Param #   \n",
            "=================================================================\n",
            "conv1d (Conv1D)              (None, 671, 512)          1536      \n",
            "_________________________________________________________________\n",
            "lstm (LSTM)                  (None, 671, 100)          245200    \n",
            "_________________________________________________________________\n",
            "lstm_1 (LSTM)                (None, 671, 25)           12600     \n",
            "_________________________________________________________________\n",
            "time_distributed (TimeDistri (None, 671, 1)            26        \n",
            "=================================================================\n",
            "Total params: 259,362\n",
            "Trainable params: 259,362\n",
            "Non-trainable params: 0\n",
            "_________________________________________________________________\n"
          ],
          "name": "stdout"
        }
      ]
    },
    {
      "cell_type": "code",
      "metadata": {
        "id": "v_uo3d_QdEKc"
      },
      "source": [
        "history = model_cnn_lstm.fit(X_train, y_train, epochs=20,validation_data=(X_test, y_test), callbacks = [early_stop])"
      ],
      "execution_count": null,
      "outputs": []
    },
    {
      "cell_type": "code",
      "metadata": {
        "id": "TG2lLa7wi5SJ"
      },
      "source": [
        "yhat = model_cnn_lstm.predict(X_test, verbose=1)\n",
        "y_pred =yhat[672].squeeze()\n",
        "df_pred = pd.DataFrame(data=y_pred, columns = ['predicted'])\n",
        "df_pred = df_pred.reset_index(drop=True)\n",
        "df_pred = df_pred['predicted'][0:n_steps]\n",
        "df_pred.columns = ['predicted']  \n",
        "\n",
        "df_actual = test_turbidity['116507_63680'][0:n_steps]\n",
        "df_actual.columns =['actual'] \n",
        "\n",
        "df_actual = df_actual.reset_index(drop=True)"
      ],
      "execution_count": null,
      "outputs": []
    },
    {
      "cell_type": "code",
      "metadata": {
        "id": "Kq8Yn6OEA025"
      },
      "source": [
        "y_pred = df_pred\n",
        "y_actual = df_actual\n",
        "\n",
        "calculate_error(y_pred, y_actual)"
      ],
      "execution_count": null,
      "outputs": []
    },
    {
      "cell_type": "markdown",
      "metadata": {
        "id": "PpHUzMzzwNlD"
      },
      "source": [
        "## Wavenet :\n"
      ]
    },
    {
      "cell_type": "code",
      "metadata": {
        "id": "L8fskcK3bsLC"
      },
      "source": [
        "model_wavenet = keras.models.Sequential(name=\"WaveNet\")"
      ],
      "execution_count": null,
      "outputs": []
    },
    {
      "cell_type": "code",
      "metadata": {
        "id": "nHADHOfjSiGM"
      },
      "source": [
        "model_wavenet.add(keras.layers.InputLayer(input_shape=[None, 1]))\n",
        "for dilation_rate in (1, 2, 4, 8, 16, 32):\n",
        "    model_wavenet.add(keras.layers.Conv1D(filters=32,\n",
        "                          kernel_size=2,\n",
        "                          strides=1,\n",
        "                          dilation_rate=dilation_rate,\n",
        "                          padding=\"causal\",\n",
        "                          activation=\"relu\")\n",
        "    )\n",
        "model_wavenet.add(keras.layers.Conv1D(filters=1, kernel_size=1))\n",
        "model_wavenet.add(Dense(1, activation='relu'))   \n",
        "\n",
        "optimizer = keras.optimizers.Adam(learning_rate=3e-4)\n",
        "model_wavenet.compile(optimizer=optimizer,loss=Huber())\n",
        "\n"
      ],
      "execution_count": null,
      "outputs": []
    },
    {
      "cell_type": "code",
      "metadata": {
        "colab": {
          "base_uri": "https://localhost:8080/"
        },
        "id": "4gGZlzaPiSpU",
        "outputId": "2c21b8e0-1e5d-40c1-ecb6-b6c6fcf55d79"
      },
      "source": [
        "model_wavenet.summary()"
      ],
      "execution_count": null,
      "outputs": [
        {
          "output_type": "stream",
          "text": [
            "Model: \"WaveNet\"\n",
            "_________________________________________________________________\n",
            "Layer (type)                 Output Shape              Param #   \n",
            "=================================================================\n",
            "conv1d (Conv1D)              (None, None, 32)          96        \n",
            "_________________________________________________________________\n",
            "conv1d_1 (Conv1D)            (None, None, 32)          2080      \n",
            "_________________________________________________________________\n",
            "conv1d_2 (Conv1D)            (None, None, 32)          2080      \n",
            "_________________________________________________________________\n",
            "conv1d_3 (Conv1D)            (None, None, 32)          2080      \n",
            "_________________________________________________________________\n",
            "conv1d_4 (Conv1D)            (None, None, 32)          2080      \n",
            "_________________________________________________________________\n",
            "conv1d_5 (Conv1D)            (None, None, 32)          2080      \n",
            "_________________________________________________________________\n",
            "conv1d_6 (Conv1D)            (None, None, 1)           33        \n",
            "_________________________________________________________________\n",
            "dense (Dense)                (None, None, 1)           2         \n",
            "=================================================================\n",
            "Total params: 10,531\n",
            "Trainable params: 10,531\n",
            "Non-trainable params: 0\n",
            "_________________________________________________________________\n"
          ],
          "name": "stdout"
        }
      ]
    },
    {
      "cell_type": "code",
      "metadata": {
        "id": "xcU9zd21TSvO"
      },
      "source": [
        "history = model_wavenet.fit(X_train, y_train, epochs=15,validation_data=(X_test, y_test), callbacks = [early_stop])"
      ],
      "execution_count": null,
      "outputs": []
    },
    {
      "cell_type": "code",
      "metadata": {
        "id": "7zRHvtvZcuYL",
        "colab": {
          "base_uri": "https://localhost:8080/"
        },
        "outputId": "90dcf683-9bd8-473e-89f4-7e3715591ddd"
      },
      "source": [
        "yhat = model_wavenet.predict(X_test, verbose=1)\n",
        "y_pred =yhat[672].squeeze()\n",
        "df_pred = pd.DataFrame(data=y_pred, columns = ['predicted'])\n",
        "df_pred = df_pred.reset_index(drop=True)\n",
        "df_pred = df_pred['predicted'][0:n_steps]\n",
        "df_pred.columns = ['predicted']  \n",
        "\n",
        "df_actual = test_turbidity['116507_63680'][0:n_steps]\n",
        "df_actual.columns =['actual'] \n",
        "\n",
        "df_actual = df_actual.reset_index(drop=True)"
      ],
      "execution_count": null,
      "outputs": [
        {
          "output_type": "stream",
          "text": [
            "73/73 [==============================] - 3s 38ms/step\n"
          ],
          "name": "stdout"
        }
      ]
    },
    {
      "cell_type": "code",
      "metadata": {
        "id": "cERmRNy6cvE6"
      },
      "source": [
        "y_pred = df_pred\n",
        "y_actual = df_actual\n",
        "\n",
        "calculate_error(y_pred, y_actual)"
      ],
      "execution_count": null,
      "outputs": []
    },
    {
      "cell_type": "markdown",
      "metadata": {
        "id": "CgJXkY-EX4QS"
      },
      "source": [
        "## Bidirectional LSTM"
      ]
    },
    {
      "cell_type": "code",
      "metadata": {
        "id": "GujTT0WZoVSc"
      },
      "source": [
        "model_bidirectional = Sequential(name = 'Bidirectional_LSTM')"
      ],
      "execution_count": null,
      "outputs": []
    },
    {
      "cell_type": "code",
      "metadata": {
        "colab": {
          "base_uri": "https://localhost:8080/"
        },
        "id": "S3zyDRGWU6wS",
        "outputId": "926cd462-b7d6-4d1a-81a5-6e2a476b5e6e"
      },
      "source": [
        "model_bidirectional.add(Bidirectional(LSTM(50, return_sequences=True),input_shape=(n_steps, n_features)))\n",
        "model_bidirectional.add(Bidirectional(LSTM(25, return_sequences=True)))\n",
        "model_bidirectional.add(TimeDistributed(Dense(1, activation= 'relu' )))\n",
        "model_bidirectional.compile(loss=Huber() , optimizer='adam' , metrics=['acc'])\n",
        "model_bidirectional.summary()"
      ],
      "execution_count": null,
      "outputs": [
        {
          "output_type": "stream",
          "text": [
            "Model: \"Bidirectional_LSTM\"\n",
            "_________________________________________________________________\n",
            "Layer (type)                 Output Shape              Param #   \n",
            "=================================================================\n",
            "bidirectional (Bidirectional (None, 672, 100)          20800     \n",
            "_________________________________________________________________\n",
            "bidirectional_1 (Bidirection (None, 672, 50)           25200     \n",
            "_________________________________________________________________\n",
            "time_distributed_1 (TimeDist (None, 672, 1)            51        \n",
            "=================================================================\n",
            "Total params: 46,051\n",
            "Trainable params: 46,051\n",
            "Non-trainable params: 0\n",
            "_________________________________________________________________\n"
          ],
          "name": "stdout"
        }
      ]
    },
    {
      "cell_type": "code",
      "metadata": {
        "id": "7Jo9dM9OX74C"
      },
      "source": [
        "model_bidirectional.fit(X_train, y_train, epochs=15, verbose=1)"
      ],
      "execution_count": null,
      "outputs": []
    },
    {
      "cell_type": "code",
      "metadata": {
        "colab": {
          "base_uri": "https://localhost:8080/"
        },
        "id": "dKXa_9lepeyc",
        "outputId": "0937ee42-9884-4d76-b173-f187c378f907"
      },
      "source": [
        "yhat = model_bidirectional.predict(X_test, verbose=1)\n",
        "y_pred =yhat[672].squeeze()\n",
        "df_pred = pd.DataFrame(data=y_pred, columns = ['predicted'])\n",
        "df_pred = df_pred.reset_index(drop=True)\n",
        "df_pred = df_pred['predicted'][0:n_steps]\n",
        "df_pred.columns = ['predicted']  \n",
        "\n",
        "df_actual = test_turbidity['116507_63680'][0:n_steps]\n",
        "df_actual.columns =['actual'] \n",
        "\n",
        "df_actual = df_actual.reset_index(drop=True)"
      ],
      "execution_count": null,
      "outputs": [
        {
          "output_type": "stream",
          "text": [
            "73/73 [==============================] - 4s 34ms/step\n"
          ],
          "name": "stdout"
        }
      ]
    },
    {
      "cell_type": "code",
      "metadata": {
        "id": "sEhA95FOpkOh"
      },
      "source": [
        "y_pred = df_pred\n",
        "y_actual = df_actual\n",
        "\n",
        "calculate_error(y_pred, y_actual)"
      ],
      "execution_count": null,
      "outputs": []
    }
  ]
}